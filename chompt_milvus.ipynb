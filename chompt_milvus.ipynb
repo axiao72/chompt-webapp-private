{
 "cells": [
  {
   "cell_type": "code",
   "execution_count": 1,
   "id": "25dbfbfa",
   "metadata": {},
   "outputs": [],
   "source": [
    "from milvus_utils import *\n",
    "import pickle\n",
    "from langchain.embeddings import HuggingFaceEmbeddings\n",
    "from langchain.text_splitter import CharacterTextSplitter, RecursiveCharacterTextSplitter\n",
    "from langchain.schema.document import Document\n",
    "import more_itertools\n",
    "from datetime import datetime"
   ]
  },
  {
   "cell_type": "code",
   "execution_count": 2,
   "id": "60ce8111",
   "metadata": {},
   "outputs": [
    {
     "name": "stderr",
     "output_type": "stream",
     "text": [
      "No sentence-transformers model found with name models/e5-large-v2. Creating a new one with MEAN pooling.\n"
     ]
    }
   ],
   "source": [
    "# Initialize e5-large-v2 embeddings model\n",
    "model_kwargs = {'device': 'cpu'}\n",
    "encode_kwargs = {'normalize_embeddings': False}\n",
    "\n",
    "hf_embeddings = HuggingFaceEmbeddings(model_name=\"models/e5-large-v2\",\n",
    "                                     model_kwargs=model_kwargs,\n",
    "                                     encode_kwargs=encode_kwargs)"
   ]
  },
  {
   "cell_type": "code",
   "execution_count": null,
   "id": "102e7005",
   "metadata": {},
   "outputs": [],
   "source": [
    "&apos; = '\n",
    "&amp; = &"
   ]
  },
  {
   "cell_type": "code",
   "execution_count": 49,
   "id": "1d16ad84",
   "metadata": {},
   "outputs": [],
   "source": [
    "string_test = \"yo this is a test of replacing typos, it&apos;s supposed to be easy &amp; fun\""
   ]
  },
  {
   "cell_type": "code",
   "execution_count": 50,
   "id": "7bc72d31",
   "metadata": {},
   "outputs": [
    {
     "data": {
      "text/plain": [
       "\"yo this is a test of replacing typos, it's supposed to be easy & fun\""
      ]
     },
     "execution_count": 50,
     "metadata": {},
     "output_type": "execute_result"
    }
   ],
   "source": [
    "string_test.replace('&apos;', \"'\").replace('&amp;', '&')"
   ]
  },
  {
   "cell_type": "code",
   "execution_count": null,
   "id": "2c7191a2",
   "metadata": {},
   "outputs": [],
   "source": [
    "'review': just_review,\n",
    "'food_rundown': food_rundown,\n",
    "'cuisine': review_cuisine,\n",
    "'perfect_for_tags': review_tags,\n",
    "'price_range': review_price,\n",
    "'review_date': review_date"
   ]
  },
  {
   "cell_type": "code",
   "execution_count": 89,
   "id": "d84939c2",
   "metadata": {},
   "outputs": [],
   "source": [
    "with open('infatuation_reviews_v2.pkl', 'rb') as file:\n",
    "    resto_reviews = pickle.load(file)"
   ]
  },
  {
   "cell_type": "code",
   "execution_count": 101,
   "id": "efa1f30a",
   "metadata": {},
   "outputs": [],
   "source": [
    "test_date = datetime.strptime(resto_reviews['Le Bernardin']['review_date'].split('T')[0], \"%Y-%m-%d\").date()"
   ]
  },
  {
   "cell_type": "code",
   "execution_count": 102,
   "id": "798abdd5",
   "metadata": {},
   "outputs": [
    {
     "name": "stdout",
     "output_type": "stream",
     "text": [
      "2022-11-01\n"
     ]
    }
   ],
   "source": [
    "print(test_date)"
   ]
  },
  {
   "cell_type": "code",
   "execution_count": 5,
   "id": "29a52fa0",
   "metadata": {},
   "outputs": [
    {
     "name": "stdout",
     "output_type": "stream",
     "text": [
      "Final total of 268 documents from 254 reviews.\n",
      "Average word of count of each document: 159.11194029850745\n",
      "\n"
     ]
    }
   ],
   "source": [
    "with open('infatuation_reviews_v2.pkl', 'rb') as file:\n",
    "    resto_reviews = pickle.load(file)\n",
    "    \n",
    "text_splitter = RecursiveCharacterTextSplitter(chunk_size=2500,\n",
    "                                     chunk_overlap=800,\n",
    "                                     length_function=len)\n",
    "final_docs = []\n",
    "total_word_cnt = 0\n",
    "for resto in resto_reviews:\n",
    "    cleaned_review = resto_reviews[resto]['review'].replace('&apos;', \"'\").replace(\"&amp;\", \"&\")\n",
    "    # Split review text into chunks\n",
    "    split_review_docs = text_splitter.create_documents([cleaned_review])\n",
    "    # Loop through each chunk and assign metadata\n",
    "    for doc in split_review_docs:\n",
    "        doc.metadata['resto_name'] = resto.replace(\"&amp;\", \"&\").replace('&apos;', \"'\")\n",
    "#         doc.metadata['food_rundown'] = resto_reviews[resto]['food_rundown'].replace(\"&amp;\", \"&\").replace('&apos;', \"'\")\n",
    "        doc.metadata['cuisine'] = resto_reviews[resto]['cuisine']\n",
    "        doc.metadata['perfect_for_tags'] = resto_reviews[resto]['perfect_for_tags'].replace(\"&amp;\", \"&\").replace('&apos;', \"'\")\n",
    "        doc.metadata['price_range'] = resto_reviews[resto]['price_range']\n",
    "        doc.metadata['review_date'] = resto_reviews[resto]['review_date'].split('T')[0]\n",
    "        # Add document to final list of documents\n",
    "        final_docs.append(doc)\n",
    "        total_word_cnt += len(doc.page_content.split())\n",
    "\n",
    "print(f'Final total of {len(final_docs)} documents from {len(resto_reviews)} reviews.')\n",
    "print(f'Average word of count of each document: {total_word_cnt/len(final_docs)}\\n')"
   ]
  },
  {
   "cell_type": "code",
   "execution_count": 14,
   "id": "ded42c92",
   "metadata": {},
   "outputs": [
    {
     "ename": "KeyboardInterrupt",
     "evalue": "",
     "output_type": "error",
     "traceback": [
      "\u001b[0;31m---------------------------------------------------------------------------\u001b[0m",
      "\u001b[0;31mKeyboardInterrupt\u001b[0m                         Traceback (most recent call last)",
      "Cell \u001b[0;32mIn[14], line 1\u001b[0m\n\u001b[0;32m----> 1\u001b[0m connect()\n",
      "File \u001b[0;32m~/gitsrc/chompt-webapp-private/milvus_utils.py:15\u001b[0m, in \u001b[0;36mconnect\u001b[0;34m()\u001b[0m\n\u001b[1;32m     14\u001b[0m \u001b[38;5;28;01mdef\u001b[39;00m \u001b[38;5;21mconnect\u001b[39m():\n\u001b[0;32m---> 15\u001b[0m     connections\u001b[38;5;241m.\u001b[39mconnect(host\u001b[38;5;241m=\u001b[39mMILVUS_HOST, port\u001b[38;5;241m=\u001b[39mMILVUS_PORT)\n",
      "File \u001b[0;32m~/opt/anaconda3/envs/foodApp/lib/python3.11/site-packages/pymilvus/orm/connections.py:356\u001b[0m, in \u001b[0;36mConnections.connect\u001b[0;34m(self, alias, user, password, db_name, token, **kwargs)\u001b[0m\n\u001b[1;32m    353\u001b[0m         \u001b[38;5;28;01mif\u001b[39;00m parsed_uri\u001b[38;5;241m.\u001b[39mscheme \u001b[38;5;241m==\u001b[39m \u001b[38;5;124m\"\u001b[39m\u001b[38;5;124mhttps\u001b[39m\u001b[38;5;124m\"\u001b[39m:\n\u001b[1;32m    354\u001b[0m             kwargs[\u001b[38;5;124m\"\u001b[39m\u001b[38;5;124msecure\u001b[39m\u001b[38;5;124m\"\u001b[39m] \u001b[38;5;241m=\u001b[39m \u001b[38;5;28;01mTrue\u001b[39;00m\n\u001b[0;32m--> 356\u001b[0m     connect_milvus(\u001b[38;5;241m*\u001b[39m\u001b[38;5;241m*\u001b[39mkwargs, user\u001b[38;5;241m=\u001b[39muser, password\u001b[38;5;241m=\u001b[39mpassword, token\u001b[38;5;241m=\u001b[39mtoken, db_name\u001b[38;5;241m=\u001b[39mdb_name)\n\u001b[1;32m    357\u001b[0m     \u001b[38;5;28;01mreturn\u001b[39;00m\n\u001b[1;32m    359\u001b[0m \u001b[38;5;66;03m# 2nd Priority, connection configs from env\u001b[39;00m\n",
      "File \u001b[0;32m~/opt/anaconda3/envs/foodApp/lib/python3.11/site-packages/pymilvus/orm/connections.py:302\u001b[0m, in \u001b[0;36mConnections.connect.<locals>.connect_milvus\u001b[0;34m(**kwargs)\u001b[0m\n\u001b[1;32m    299\u001b[0m t \u001b[38;5;241m=\u001b[39m kwargs\u001b[38;5;241m.\u001b[39mget(\u001b[38;5;124m\"\u001b[39m\u001b[38;5;124mtimeout\u001b[39m\u001b[38;5;124m\"\u001b[39m)\n\u001b[1;32m    300\u001b[0m timeout \u001b[38;5;241m=\u001b[39m t \u001b[38;5;28;01mif\u001b[39;00m \u001b[38;5;28misinstance\u001b[39m(t, (\u001b[38;5;28mint\u001b[39m, \u001b[38;5;28mfloat\u001b[39m)) \u001b[38;5;28;01melse\u001b[39;00m Config\u001b[38;5;241m.\u001b[39mMILVUS_CONN_TIMEOUT\n\u001b[0;32m--> 302\u001b[0m gh\u001b[38;5;241m.\u001b[39m_wait_for_channel_ready(timeout\u001b[38;5;241m=\u001b[39mtimeout)\n\u001b[1;32m    303\u001b[0m kwargs\u001b[38;5;241m.\u001b[39mpop(\u001b[38;5;124m\"\u001b[39m\u001b[38;5;124mpassword\u001b[39m\u001b[38;5;124m\"\u001b[39m)\n\u001b[1;32m    304\u001b[0m kwargs\u001b[38;5;241m.\u001b[39mpop(\u001b[38;5;124m\"\u001b[39m\u001b[38;5;124mtoken\u001b[39m\u001b[38;5;124m\"\u001b[39m, \u001b[38;5;28;01mNone\u001b[39;00m)\n",
      "File \u001b[0;32m~/opt/anaconda3/envs/foodApp/lib/python3.11/site-packages/pymilvus/client/grpc_handler.py:131\u001b[0m, in \u001b[0;36mGrpcHandler._wait_for_channel_ready\u001b[0;34m(self, timeout)\u001b[0m\n\u001b[1;32m    125\u001b[0m     \u001b[38;5;28;01mraise\u001b[39;00m MilvusException(\n\u001b[1;32m    126\u001b[0m         code\u001b[38;5;241m=\u001b[39mStatus\u001b[38;5;241m.\u001b[39mCONNECT_FAILED,\n\u001b[1;32m    127\u001b[0m         message\u001b[38;5;241m=\u001b[39m\u001b[38;5;124m\"\u001b[39m\u001b[38;5;124mNo channel in handler, please setup grpc channel first\u001b[39m\u001b[38;5;124m\"\u001b[39m,\n\u001b[1;32m    128\u001b[0m     )\n\u001b[1;32m    130\u001b[0m \u001b[38;5;28;01mtry\u001b[39;00m:\n\u001b[0;32m--> 131\u001b[0m     grpc\u001b[38;5;241m.\u001b[39mchannel_ready_future(\u001b[38;5;28mself\u001b[39m\u001b[38;5;241m.\u001b[39m_channel)\u001b[38;5;241m.\u001b[39mresult(timeout\u001b[38;5;241m=\u001b[39mtimeout)\n\u001b[1;32m    132\u001b[0m     \u001b[38;5;28mself\u001b[39m\u001b[38;5;241m.\u001b[39m_setup_identifier_interceptor(\u001b[38;5;28mself\u001b[39m\u001b[38;5;241m.\u001b[39m_user)\n\u001b[1;32m    133\u001b[0m \u001b[38;5;28;01mexcept\u001b[39;00m grpc\u001b[38;5;241m.\u001b[39mFutureTimeoutError \u001b[38;5;28;01mas\u001b[39;00m e:\n",
      "File \u001b[0;32m~/opt/anaconda3/envs/foodApp/lib/python3.11/site-packages/grpc/_utilities.py:162\u001b[0m, in \u001b[0;36m_ChannelReadyFuture.result\u001b[0;34m(self, timeout)\u001b[0m\n\u001b[1;32m    161\u001b[0m \u001b[38;5;28;01mdef\u001b[39;00m \u001b[38;5;21mresult\u001b[39m(\u001b[38;5;28mself\u001b[39m, timeout: Optional[\u001b[38;5;28mfloat\u001b[39m] \u001b[38;5;241m=\u001b[39m \u001b[38;5;28;01mNone\u001b[39;00m) \u001b[38;5;241m-\u001b[39m\u001b[38;5;241m>\u001b[39m \u001b[38;5;28;01mNone\u001b[39;00m:\n\u001b[0;32m--> 162\u001b[0m     \u001b[38;5;28mself\u001b[39m\u001b[38;5;241m.\u001b[39m_block(timeout)\n",
      "File \u001b[0;32m~/opt/anaconda3/envs/foodApp/lib/python3.11/site-packages/grpc/_utilities.py:108\u001b[0m, in \u001b[0;36m_ChannelReadyFuture._block\u001b[0;34m(self, timeout)\u001b[0m\n\u001b[1;32m    106\u001b[0m     \u001b[38;5;28;01mraise\u001b[39;00m grpc\u001b[38;5;241m.\u001b[39mFutureTimeoutError()\n\u001b[1;32m    107\u001b[0m \u001b[38;5;28;01melse\u001b[39;00m:\n\u001b[0;32m--> 108\u001b[0m     \u001b[38;5;28mself\u001b[39m\u001b[38;5;241m.\u001b[39m_condition\u001b[38;5;241m.\u001b[39mwait(timeout\u001b[38;5;241m=\u001b[39mremaining)\n",
      "File \u001b[0;32m~/opt/anaconda3/envs/foodApp/lib/python3.11/threading.py:324\u001b[0m, in \u001b[0;36mCondition.wait\u001b[0;34m(self, timeout)\u001b[0m\n\u001b[1;32m    322\u001b[0m \u001b[38;5;28;01melse\u001b[39;00m:\n\u001b[1;32m    323\u001b[0m     \u001b[38;5;28;01mif\u001b[39;00m timeout \u001b[38;5;241m>\u001b[39m \u001b[38;5;241m0\u001b[39m:\n\u001b[0;32m--> 324\u001b[0m         gotit \u001b[38;5;241m=\u001b[39m waiter\u001b[38;5;241m.\u001b[39macquire(\u001b[38;5;28;01mTrue\u001b[39;00m, timeout)\n\u001b[1;32m    325\u001b[0m     \u001b[38;5;28;01melse\u001b[39;00m:\n\u001b[1;32m    326\u001b[0m         gotit \u001b[38;5;241m=\u001b[39m waiter\u001b[38;5;241m.\u001b[39macquire(\u001b[38;5;28;01mFalse\u001b[39;00m)\n",
      "\u001b[0;31mKeyboardInterrupt\u001b[0m: "
     ]
    }
   ],
   "source": [
    "connect()"
   ]
  },
  {
   "cell_type": "code",
   "execution_count": 4,
   "id": "1006d44a",
   "metadata": {},
   "outputs": [
    {
     "data": {
      "text/plain": [
       "['chompt_resto_data', 'chompt_resto_data_cleaned', 'chompt_resto_data_2']"
      ]
     },
     "execution_count": 4,
     "metadata": {},
     "output_type": "execute_result"
    }
   ],
   "source": [
    "listCollections()"
   ]
  },
  {
   "cell_type": "code",
   "execution_count": 111,
   "id": "be97166e",
   "metadata": {},
   "outputs": [
    {
     "data": {
      "text/plain": [
       "{'collection.schema': {'auto_id': True, 'description': 'Restaurant reviews to use for Chompt restaurant picker', 'fields': [{'name': 'pk', 'description': '', 'type': <DataType.INT64: 5>, 'is_primary': True, 'auto_id': True}, {'name': 'resto_name', 'description': '', 'type': <DataType.VARCHAR: 21>, 'params': {'max_length': 100}}, {'name': 'price_range', 'description': '', 'type': <DataType.VARCHAR: 21>, 'params': {'max_length': 100}}, {'name': 'perfect_for_tags', 'description': '', 'type': <DataType.VARCHAR: 21>, 'params': {'max_length': 1000}}, {'name': 'text', 'description': '', 'type': <DataType.VARCHAR: 21>, 'params': {'max_length': 65535}}, {'name': 'vector', 'description': '', 'type': <DataType.FLOAT_VECTOR: 101>, 'params': {'dim': 1024}}]},\n",
       " 'collection.description': 'Restaurant reviews to use for Chompt restaurant picker',\n",
       " 'collection.name': 'chompt_resto_data_cleaned',\n",
       " 'collection.is_empty': False,\n",
       " 'collection.num_entities': 309,\n",
       " 'collection.primary_field': {'name': 'pk', 'description': '', 'type': <DataType.INT64: 5>, 'is_primary': True, 'auto_id': True},\n",
       " 'collection.partitions': [{\"name\":\"_default\",\"collection_name\":\"chompt_resto_data_cleaned\",\"description\":\"\"}],\n",
       " 'collection.indexes': [<pymilvus.orm.index.Index at 0x135e05bd0>]}"
      ]
     },
     "execution_count": 111,
     "metadata": {},
     "output_type": "execute_result"
    }
   ],
   "source": [
    "getCollectionDetails('chompt_resto_data_cleaned')"
   ]
  },
  {
   "cell_type": "code",
   "execution_count": 6,
   "id": "f8589357",
   "metadata": {},
   "outputs": [
    {
     "name": "stdout",
     "output_type": "stream",
     "text": [
      "Creating collection: chompt_resto_data_cleaned_dec8\n",
      "Created\n"
     ]
    }
   ],
   "source": [
    "# dropCollection('chompt_resto_data_cleaned')\n",
    "collection = createCollection('chompt_resto_data_cleaned_dec8')\n",
    "# listCollections()"
   ]
  },
  {
   "cell_type": "code",
   "execution_count": null,
   "id": "bde5bc3e",
   "metadata": {},
   "outputs": [],
   "source": [
    "collection = Collection(name='chompt_resto_data', using='default')"
   ]
  },
  {
   "cell_type": "code",
   "execution_count": null,
   "id": "a9c8fc13",
   "metadata": {},
   "outputs": [],
   "source": [
    "res = collection.query(expr=\"resto_name like 'Le Bernardin%'\",\n",
    "                      output_fields=['resto_name', 'text'])\n",
    "res[0]"
   ]
  },
  {
   "cell_type": "code",
   "execution_count": 7,
   "id": "b6531a34",
   "metadata": {},
   "outputs": [],
   "source": [
    "disconnect()"
   ]
  },
  {
   "cell_type": "code",
   "execution_count": null,
   "id": "c6f19114",
   "metadata": {},
   "outputs": [],
   "source": [
    "# sub_final_docs = final_docs[:10]\n",
    "# vector_store = Milvus.from_documents(sub_final_docs,\n",
    "#                                     collection_name=MILVUS_COLLECTION_NAME,\n",
    "#                                     embedding=hf_embeddings,\n",
    "#                                     connection_args={\"host\": MILVUS_HOST, \"port\": MILVUS_PORT})"
   ]
  },
  {
   "cell_type": "code",
   "execution_count": 114,
   "id": "ccf833c6",
   "metadata": {},
   "outputs": [
    {
     "data": {
      "text/plain": [
       "268"
      ]
     },
     "execution_count": 114,
     "metadata": {},
     "output_type": "execute_result"
    }
   ],
   "source": [
    "len(final_docs)"
   ]
  },
  {
   "cell_type": "code",
   "execution_count": 8,
   "id": "1850c714",
   "metadata": {},
   "outputs": [],
   "source": [
    "# sub_doc = [final_docs[0]]\n",
    "sub_docs = list(more_itertools.batched(final_docs, 30))"
   ]
  },
  {
   "cell_type": "code",
   "execution_count": 116,
   "id": "31a9e072",
   "metadata": {},
   "outputs": [],
   "source": []
  },
  {
   "cell_type": "code",
   "execution_count": 120,
   "id": "d78ca220",
   "metadata": {},
   "outputs": [
    {
     "data": {
      "text/plain": [
       "30"
      ]
     },
     "execution_count": 120,
     "metadata": {},
     "output_type": "execute_result"
    }
   ],
   "source": [
    "len(sub_docs[0])"
   ]
  },
  {
   "cell_type": "code",
   "execution_count": 9,
   "id": "9c054dde",
   "metadata": {},
   "outputs": [
    {
     "name": "stdout",
     "output_type": "stream",
     "text": [
      "Stored sub list 1 in Milvus!\n",
      "Stored sub list 2 in Milvus!\n",
      "Stored sub list 3 in Milvus!\n",
      "Stored sub list 4 in Milvus!\n",
      "Stored sub list 5 in Milvus!\n",
      "Stored sub list 6 in Milvus!\n",
      "Stored sub list 7 in Milvus!\n",
      "Stored sub list 8 in Milvus!\n",
      "Stored sub list 9 in Milvus!\n"
     ]
    }
   ],
   "source": [
    "for count, doc_list in enumerate(sub_docs):\n",
    "    vector_store = Milvus.from_documents(list(doc_list),\n",
    "                                        collection_name='chompt_resto_data_cleaned_dec8',\n",
    "                                        embedding=hf_embeddings,\n",
    "                                        connection_args={\"host\": MILVUS_HOST, \"port\": MILVUS_PORT})\n",
    "    print(f\"Stored sub list {count+1} in Milvus!\")\n",
    "\n",
    "# vector_store = Milvus(collection_name='chompt_resto_data_cleaned',\n",
    "#                     embedding_function=hf_embeddings,\n",
    "#                     connection_args={\"host\": MILVUS_HOST, \"port\": MILVUS_PORT})"
   ]
  },
  {
   "cell_type": "code",
   "execution_count": 13,
   "id": "01f9e1c9",
   "metadata": {},
   "outputs": [
    {
     "name": "stderr",
     "output_type": "stream",
     "text": [
      "\u001b[93m[has_collection] retry:4, cost: 0.27s, reason: <_MultiThreadedRendezvous: StatusCode.UNAVAILABLE, failed to connect to all addresses; last error: UNKNOWN: ipv4:127.0.0.1:19530: Failed to connect to remote host: Connection refused>\u001b[0m\n",
      "\u001b[93m[has_collection] retry:5, cost: 0.81s, reason: <_MultiThreadedRendezvous: StatusCode.UNAVAILABLE, failed to connect to all addresses; last error: UNKNOWN: ipv4:127.0.0.1:19530: Failed to connect to remote host: Connection refused>\u001b[0m\n",
      "\u001b[93m[has_collection] retry:6, cost: 2.43s, reason: <_MultiThreadedRendezvous: StatusCode.UNAVAILABLE, failed to connect to all addresses; last error: UNKNOWN: ipv4:127.0.0.1:19530: Failed to connect to remote host: Connection refused>\u001b[0m\n",
      "\u001b[93m[has_collection] retry:7, cost: 3.00s, reason: <_MultiThreadedRendezvous: StatusCode.UNAVAILABLE, failed to connect to all addresses; last error: UNKNOWN: ipv4:127.0.0.1:19530: Failed to connect to remote host: Connection refused>\u001b[0m\n"
     ]
    },
    {
     "ename": "KeyboardInterrupt",
     "evalue": "",
     "output_type": "error",
     "traceback": [
      "\u001b[0;31m---------------------------------------------------------------------------\u001b[0m",
      "\u001b[0;31m_MultiThreadedRendezvous\u001b[0m                  Traceback (most recent call last)",
      "File \u001b[0;32m~/opt/anaconda3/envs/foodApp/lib/python3.11/site-packages/pymilvus/decorators.py:68\u001b[0m, in \u001b[0;36mretry_on_rpc_failure.<locals>.wrapper.<locals>.handler\u001b[0;34m(*args, **kwargs)\u001b[0m\n\u001b[1;32m     67\u001b[0m \u001b[38;5;28;01mtry\u001b[39;00m:\n\u001b[0;32m---> 68\u001b[0m     \u001b[38;5;28;01mreturn\u001b[39;00m func(\u001b[38;5;241m*\u001b[39margs, \u001b[38;5;241m*\u001b[39m\u001b[38;5;241m*\u001b[39mkwargs)\n\u001b[1;32m     69\u001b[0m \u001b[38;5;28;01mexcept\u001b[39;00m grpc\u001b[38;5;241m.\u001b[39mRpcError \u001b[38;5;28;01mas\u001b[39;00m e:\n\u001b[1;32m     70\u001b[0m     \u001b[38;5;66;03m# Reference: https://grpc.github.io/grpc/python/grpc.html#grpc-status-code\u001b[39;00m\n",
      "File \u001b[0;32m~/opt/anaconda3/envs/foodApp/lib/python3.11/site-packages/pymilvus/client/grpc_handler.py:322\u001b[0m, in \u001b[0;36mGrpcHandler.has_collection\u001b[0;34m(self, collection_name, timeout, **kwargs)\u001b[0m\n\u001b[1;32m    320\u001b[0m rf \u001b[38;5;241m=\u001b[39m \u001b[38;5;28mself\u001b[39m\u001b[38;5;241m.\u001b[39m_stub\u001b[38;5;241m.\u001b[39mDescribeCollection\u001b[38;5;241m.\u001b[39mfuture(request, timeout\u001b[38;5;241m=\u001b[39mtimeout)\n\u001b[0;32m--> 322\u001b[0m reply \u001b[38;5;241m=\u001b[39m rf\u001b[38;5;241m.\u001b[39mresult()\n\u001b[1;32m    323\u001b[0m \u001b[38;5;66;03m# For compatibility with Milvus less than 2.3.2, which does not support status.code.\u001b[39;00m\n",
      "File \u001b[0;32m~/opt/anaconda3/envs/foodApp/lib/python3.11/site-packages/grpc/_channel.py:881\u001b[0m, in \u001b[0;36m_MultiThreadedRendezvous.result\u001b[0;34m(self, timeout)\u001b[0m\n\u001b[1;32m    880\u001b[0m \u001b[38;5;28;01melse\u001b[39;00m:\n\u001b[0;32m--> 881\u001b[0m     \u001b[38;5;28;01mraise\u001b[39;00m \u001b[38;5;28mself\u001b[39m\n",
      "\u001b[0;31m_MultiThreadedRendezvous\u001b[0m: <_MultiThreadedRendezvous of RPC that terminated with:\n\tstatus = StatusCode.UNAVAILABLE\n\tdetails = \"failed to connect to all addresses; last error: UNKNOWN: ipv4:127.0.0.1:19530: Failed to connect to remote host: Connection refused\"\n\tdebug_error_string = \"UNKNOWN:failed to connect to all addresses; last error: UNKNOWN: ipv4:127.0.0.1:19530: Failed to connect to remote host: Connection refused {created_time:\"2023-12-08T15:07:17.256426-05:00\", grpc_status:14}\"\n>",
      "\nDuring handling of the above exception, another exception occurred:\n",
      "\u001b[0;31mKeyboardInterrupt\u001b[0m                         Traceback (most recent call last)",
      "Cell \u001b[0;32mIn[13], line 1\u001b[0m\n\u001b[0;32m----> 1\u001b[0m vector_store \u001b[38;5;241m=\u001b[39m Milvus(collection_name\u001b[38;5;241m=\u001b[39m\u001b[38;5;124m'\u001b[39m\u001b[38;5;124mchompt_resto_data_cleaned_dec8\u001b[39m\u001b[38;5;124m'\u001b[39m,\n\u001b[1;32m      2\u001b[0m                     embedding_function\u001b[38;5;241m=\u001b[39mhf_embeddings,\n\u001b[1;32m      3\u001b[0m                     connection_args\u001b[38;5;241m=\u001b[39m{\u001b[38;5;124m\"\u001b[39m\u001b[38;5;124mhost\u001b[39m\u001b[38;5;124m\"\u001b[39m: MILVUS_HOST, \u001b[38;5;124m\"\u001b[39m\u001b[38;5;124mport\u001b[39m\u001b[38;5;124m\"\u001b[39m: MILVUS_PORT})\n",
      "File \u001b[0;32m~/opt/anaconda3/envs/foodApp/lib/python3.11/site-packages/langchain/vectorstores/milvus.py:159\u001b[0m, in \u001b[0;36mMilvus.__init__\u001b[0;34m(self, embedding_function, collection_name, connection_args, consistency_level, index_params, search_params, drop_old, primary_field, text_field, vector_field)\u001b[0m\n\u001b[1;32m    156\u001b[0m \u001b[38;5;28mself\u001b[39m\u001b[38;5;241m.\u001b[39mcol: Optional[Collection] \u001b[38;5;241m=\u001b[39m \u001b[38;5;28;01mNone\u001b[39;00m\n\u001b[1;32m    158\u001b[0m \u001b[38;5;66;03m# Grab the existing collection if it exists\u001b[39;00m\n\u001b[0;32m--> 159\u001b[0m \u001b[38;5;28;01mif\u001b[39;00m utility\u001b[38;5;241m.\u001b[39mhas_collection(\u001b[38;5;28mself\u001b[39m\u001b[38;5;241m.\u001b[39mcollection_name, using\u001b[38;5;241m=\u001b[39m\u001b[38;5;28mself\u001b[39m\u001b[38;5;241m.\u001b[39malias):\n\u001b[1;32m    160\u001b[0m     \u001b[38;5;28mself\u001b[39m\u001b[38;5;241m.\u001b[39mcol \u001b[38;5;241m=\u001b[39m Collection(\n\u001b[1;32m    161\u001b[0m         \u001b[38;5;28mself\u001b[39m\u001b[38;5;241m.\u001b[39mcollection_name,\n\u001b[1;32m    162\u001b[0m         using\u001b[38;5;241m=\u001b[39m\u001b[38;5;28mself\u001b[39m\u001b[38;5;241m.\u001b[39malias,\n\u001b[1;32m    163\u001b[0m     )\n\u001b[1;32m    164\u001b[0m \u001b[38;5;66;03m# If need to drop old, drop it\u001b[39;00m\n",
      "File \u001b[0;32m~/opt/anaconda3/envs/foodApp/lib/python3.11/site-packages/pymilvus/orm/utility.py:433\u001b[0m, in \u001b[0;36mhas_collection\u001b[0;34m(collection_name, using, timeout)\u001b[0m\n\u001b[1;32m    414\u001b[0m \u001b[38;5;28;01mdef\u001b[39;00m \u001b[38;5;21mhas_collection\u001b[39m(collection_name: \u001b[38;5;28mstr\u001b[39m, using: \u001b[38;5;28mstr\u001b[39m \u001b[38;5;241m=\u001b[39m \u001b[38;5;124m\"\u001b[39m\u001b[38;5;124mdefault\u001b[39m\u001b[38;5;124m\"\u001b[39m, timeout: Optional[\u001b[38;5;28mfloat\u001b[39m] \u001b[38;5;241m=\u001b[39m \u001b[38;5;28;01mNone\u001b[39;00m):\n\u001b[1;32m    415\u001b[0m \u001b[38;5;250m    \u001b[39m\u001b[38;5;124;03m\"\"\"\u001b[39;00m\n\u001b[1;32m    416\u001b[0m \u001b[38;5;124;03m    Checks whether a specified collection exists.\u001b[39;00m\n\u001b[1;32m    417\u001b[0m \n\u001b[0;32m   (...)\u001b[0m\n\u001b[1;32m    431\u001b[0m \u001b[38;5;124;03m        >>> utility.has_collection(\"test_collection\")\u001b[39;00m\n\u001b[1;32m    432\u001b[0m \u001b[38;5;124;03m    \"\"\"\u001b[39;00m\n\u001b[0;32m--> 433\u001b[0m     \u001b[38;5;28;01mreturn\u001b[39;00m _get_connection(using)\u001b[38;5;241m.\u001b[39mhas_collection(collection_name, timeout\u001b[38;5;241m=\u001b[39mtimeout)\n",
      "File \u001b[0;32m~/opt/anaconda3/envs/foodApp/lib/python3.11/site-packages/pymilvus/decorators.py:125\u001b[0m, in \u001b[0;36merror_handler.<locals>.wrapper.<locals>.handler\u001b[0;34m(*args, **kwargs)\u001b[0m\n\u001b[1;32m    123\u001b[0m \u001b[38;5;28;01mtry\u001b[39;00m:\n\u001b[1;32m    124\u001b[0m     record_dict[\u001b[38;5;124m\"\u001b[39m\u001b[38;5;124mRPC start\u001b[39m\u001b[38;5;124m\"\u001b[39m] \u001b[38;5;241m=\u001b[39m \u001b[38;5;28mstr\u001b[39m(datetime\u001b[38;5;241m.\u001b[39mdatetime\u001b[38;5;241m.\u001b[39mnow())\n\u001b[0;32m--> 125\u001b[0m     \u001b[38;5;28;01mreturn\u001b[39;00m func(\u001b[38;5;241m*\u001b[39margs, \u001b[38;5;241m*\u001b[39m\u001b[38;5;241m*\u001b[39mkwargs)\n\u001b[1;32m    126\u001b[0m \u001b[38;5;28;01mexcept\u001b[39;00m MilvusException \u001b[38;5;28;01mas\u001b[39;00m e:\n\u001b[1;32m    127\u001b[0m     record_dict[\u001b[38;5;124m\"\u001b[39m\u001b[38;5;124mRPC error\u001b[39m\u001b[38;5;124m\"\u001b[39m] \u001b[38;5;241m=\u001b[39m \u001b[38;5;28mstr\u001b[39m(datetime\u001b[38;5;241m.\u001b[39mdatetime\u001b[38;5;241m.\u001b[39mnow())\n",
      "File \u001b[0;32m~/opt/anaconda3/envs/foodApp/lib/python3.11/site-packages/pymilvus/decorators.py:164\u001b[0m, in \u001b[0;36mtracing_request.<locals>.wrapper.<locals>.handler\u001b[0;34m(self, *args, **kwargs)\u001b[0m\n\u001b[1;32m    162\u001b[0m \u001b[38;5;28;01mif\u001b[39;00m req_id:\n\u001b[1;32m    163\u001b[0m     \u001b[38;5;28mself\u001b[39m\u001b[38;5;241m.\u001b[39mset_onetime_request_id(req_id)\n\u001b[0;32m--> 164\u001b[0m \u001b[38;5;28;01mreturn\u001b[39;00m func(\u001b[38;5;28mself\u001b[39m, \u001b[38;5;241m*\u001b[39margs, \u001b[38;5;241m*\u001b[39m\u001b[38;5;241m*\u001b[39mkwargs)\n",
      "File \u001b[0;32m~/opt/anaconda3/envs/foodApp/lib/python3.11/site-packages/pymilvus/decorators.py:90\u001b[0m, in \u001b[0;36mretry_on_rpc_failure.<locals>.wrapper.<locals>.handler\u001b[0;34m(*args, **kwargs)\u001b[0m\n\u001b[1;32m     84\u001b[0m         retry_msg \u001b[38;5;241m=\u001b[39m (\n\u001b[1;32m     85\u001b[0m             \u001b[38;5;124mf\u001b[39m\u001b[38;5;124m\"\u001b[39m\u001b[38;5;124m[\u001b[39m\u001b[38;5;132;01m{\u001b[39;00mfunc\u001b[38;5;241m.\u001b[39m\u001b[38;5;18m__name__\u001b[39m\u001b[38;5;132;01m}\u001b[39;00m\u001b[38;5;124m] retry:\u001b[39m\u001b[38;5;132;01m{\u001b[39;00mcounter\u001b[38;5;132;01m}\u001b[39;00m\u001b[38;5;124m, cost: \u001b[39m\u001b[38;5;132;01m{\u001b[39;00mback_off\u001b[38;5;132;01m:\u001b[39;00m\u001b[38;5;124m.2f\u001b[39m\u001b[38;5;132;01m}\u001b[39;00m\u001b[38;5;124ms, \u001b[39m\u001b[38;5;124m\"\u001b[39m\n\u001b[1;32m     86\u001b[0m             \u001b[38;5;124mf\u001b[39m\u001b[38;5;124m\"\u001b[39m\u001b[38;5;124mreason: <\u001b[39m\u001b[38;5;132;01m{\u001b[39;00me\u001b[38;5;241m.\u001b[39m\u001b[38;5;18m__class__\u001b[39m\u001b[38;5;241m.\u001b[39m\u001b[38;5;18m__name__\u001b[39m\u001b[38;5;132;01m}\u001b[39;00m\u001b[38;5;124m: \u001b[39m\u001b[38;5;132;01m{\u001b[39;00me\u001b[38;5;241m.\u001b[39mcode()\u001b[38;5;132;01m}\u001b[39;00m\u001b[38;5;124m, \u001b[39m\u001b[38;5;132;01m{\u001b[39;00me\u001b[38;5;241m.\u001b[39mdetails()\u001b[38;5;132;01m}\u001b[39;00m\u001b[38;5;124m>\u001b[39m\u001b[38;5;124m\"\u001b[39m\n\u001b[1;32m     87\u001b[0m         )\n\u001b[1;32m     88\u001b[0m         LOGGER\u001b[38;5;241m.\u001b[39mwarning(WARNING_COLOR\u001b[38;5;241m.\u001b[39mformat(retry_msg))\n\u001b[0;32m---> 90\u001b[0m     time\u001b[38;5;241m.\u001b[39msleep(back_off)\n\u001b[1;32m     91\u001b[0m     back_off \u001b[38;5;241m=\u001b[39m \u001b[38;5;28mmin\u001b[39m(back_off \u001b[38;5;241m*\u001b[39m back_off_multiplier, max_back_off)\n\u001b[1;32m     92\u001b[0m \u001b[38;5;28;01mexcept\u001b[39;00m MilvusException \u001b[38;5;28;01mas\u001b[39;00m e:\n",
      "\u001b[0;31mKeyboardInterrupt\u001b[0m: "
     ]
    }
   ],
   "source": [
    "vector_store = Milvus(collection_name='chompt_resto_data_cleaned_dec8',\n",
    "                    embedding_function=hf_embeddings,\n",
    "                    connection_args={\"host\": MILVUS_HOST, \"port\": MILVUS_PORT})"
   ]
  },
  {
   "cell_type": "code",
   "execution_count": 10,
   "id": "326ae1f5",
   "metadata": {},
   "outputs": [],
   "source": [
    "query = \"Going on a date and want to eat really good Chinese food in downtown Manhattan that will impress my date.\""
   ]
  },
  {
   "cell_type": "code",
   "execution_count": 12,
   "id": "a49d1857",
   "metadata": {},
   "outputs": [
    {
     "ename": "KeyboardInterrupt",
     "evalue": "",
     "output_type": "error",
     "traceback": [
      "\u001b[0;31m---------------------------------------------------------------------------\u001b[0m",
      "\u001b[0;31mKeyboardInterrupt\u001b[0m                         Traceback (most recent call last)",
      "Cell \u001b[0;32mIn[12], line 3\u001b[0m\n\u001b[1;32m      1\u001b[0m \u001b[38;5;66;03m# search_expr = 'price_range == \\\"$$\\\"'\u001b[39;00m\n\u001b[1;32m      2\u001b[0m \u001b[38;5;66;03m# result_docs = vector_store.similarity_search(query, search_expr)\u001b[39;00m\n\u001b[0;32m----> 3\u001b[0m result_docs \u001b[38;5;241m=\u001b[39m vector_store\u001b[38;5;241m.\u001b[39msimilarity_search(query)\n",
      "File \u001b[0;32m~/opt/anaconda3/envs/foodApp/lib/python3.11/site-packages/langchain/vectorstores/milvus.py:503\u001b[0m, in \u001b[0;36mMilvus.similarity_search\u001b[0;34m(self, query, k, param, expr, timeout, **kwargs)\u001b[0m\n\u001b[1;32m    501\u001b[0m     logger\u001b[38;5;241m.\u001b[39mdebug(\u001b[38;5;124m\"\u001b[39m\u001b[38;5;124mNo existing collection to search.\u001b[39m\u001b[38;5;124m\"\u001b[39m)\n\u001b[1;32m    502\u001b[0m     \u001b[38;5;28;01mreturn\u001b[39;00m []\n\u001b[0;32m--> 503\u001b[0m res \u001b[38;5;241m=\u001b[39m \u001b[38;5;28mself\u001b[39m\u001b[38;5;241m.\u001b[39msimilarity_search_with_score(\n\u001b[1;32m    504\u001b[0m     query\u001b[38;5;241m=\u001b[39mquery, k\u001b[38;5;241m=\u001b[39mk, param\u001b[38;5;241m=\u001b[39mparam, expr\u001b[38;5;241m=\u001b[39mexpr, timeout\u001b[38;5;241m=\u001b[39mtimeout, \u001b[38;5;241m*\u001b[39m\u001b[38;5;241m*\u001b[39mkwargs\n\u001b[1;32m    505\u001b[0m )\n\u001b[1;32m    506\u001b[0m \u001b[38;5;28;01mreturn\u001b[39;00m [doc \u001b[38;5;28;01mfor\u001b[39;00m doc, _ \u001b[38;5;129;01min\u001b[39;00m res]\n",
      "File \u001b[0;32m~/opt/anaconda3/envs/foodApp/lib/python3.11/site-packages/langchain/vectorstores/milvus.py:575\u001b[0m, in \u001b[0;36mMilvus.similarity_search_with_score\u001b[0;34m(self, query, k, param, expr, timeout, **kwargs)\u001b[0m\n\u001b[1;32m    572\u001b[0m \u001b[38;5;66;03m# Embed the query text.\u001b[39;00m\n\u001b[1;32m    573\u001b[0m embedding \u001b[38;5;241m=\u001b[39m \u001b[38;5;28mself\u001b[39m\u001b[38;5;241m.\u001b[39membedding_func\u001b[38;5;241m.\u001b[39membed_query(query)\n\u001b[0;32m--> 575\u001b[0m res \u001b[38;5;241m=\u001b[39m \u001b[38;5;28mself\u001b[39m\u001b[38;5;241m.\u001b[39msimilarity_search_with_score_by_vector(\n\u001b[1;32m    576\u001b[0m     embedding\u001b[38;5;241m=\u001b[39membedding, k\u001b[38;5;241m=\u001b[39mk, param\u001b[38;5;241m=\u001b[39mparam, expr\u001b[38;5;241m=\u001b[39mexpr, timeout\u001b[38;5;241m=\u001b[39mtimeout, \u001b[38;5;241m*\u001b[39m\u001b[38;5;241m*\u001b[39mkwargs\n\u001b[1;32m    577\u001b[0m )\n\u001b[1;32m    578\u001b[0m \u001b[38;5;28;01mreturn\u001b[39;00m res\n",
      "File \u001b[0;32m~/opt/anaconda3/envs/foodApp/lib/python3.11/site-packages/langchain/vectorstores/milvus.py:620\u001b[0m, in \u001b[0;36mMilvus.similarity_search_with_score_by_vector\u001b[0;34m(self, embedding, k, param, expr, timeout, **kwargs)\u001b[0m\n\u001b[1;32m    617\u001b[0m output_fields\u001b[38;5;241m.\u001b[39mremove(\u001b[38;5;28mself\u001b[39m\u001b[38;5;241m.\u001b[39m_vector_field)\n\u001b[1;32m    619\u001b[0m \u001b[38;5;66;03m# Perform the search.\u001b[39;00m\n\u001b[0;32m--> 620\u001b[0m res \u001b[38;5;241m=\u001b[39m \u001b[38;5;28mself\u001b[39m\u001b[38;5;241m.\u001b[39mcol\u001b[38;5;241m.\u001b[39msearch(\n\u001b[1;32m    621\u001b[0m     data\u001b[38;5;241m=\u001b[39m[embedding],\n\u001b[1;32m    622\u001b[0m     anns_field\u001b[38;5;241m=\u001b[39m\u001b[38;5;28mself\u001b[39m\u001b[38;5;241m.\u001b[39m_vector_field,\n\u001b[1;32m    623\u001b[0m     param\u001b[38;5;241m=\u001b[39mparam,\n\u001b[1;32m    624\u001b[0m     limit\u001b[38;5;241m=\u001b[39mk,\n\u001b[1;32m    625\u001b[0m     expr\u001b[38;5;241m=\u001b[39mexpr,\n\u001b[1;32m    626\u001b[0m     output_fields\u001b[38;5;241m=\u001b[39moutput_fields,\n\u001b[1;32m    627\u001b[0m     timeout\u001b[38;5;241m=\u001b[39mtimeout,\n\u001b[1;32m    628\u001b[0m     \u001b[38;5;241m*\u001b[39m\u001b[38;5;241m*\u001b[39mkwargs,\n\u001b[1;32m    629\u001b[0m )\n\u001b[1;32m    630\u001b[0m \u001b[38;5;66;03m# Organize results.\u001b[39;00m\n\u001b[1;32m    631\u001b[0m ret \u001b[38;5;241m=\u001b[39m []\n",
      "File \u001b[0;32m~/opt/anaconda3/envs/foodApp/lib/python3.11/site-packages/pymilvus/orm/collection.py:783\u001b[0m, in \u001b[0;36mCollection.search\u001b[0;34m(self, data, anns_field, param, limit, expr, partition_names, output_fields, timeout, round_decimal, **kwargs)\u001b[0m\n\u001b[1;32m    780\u001b[0m     \u001b[38;5;28;01mreturn\u001b[39;00m SearchFuture(\u001b[38;5;28;01mNone\u001b[39;00m) \u001b[38;5;28;01mif\u001b[39;00m kwargs\u001b[38;5;241m.\u001b[39mget(\u001b[38;5;124m\"\u001b[39m\u001b[38;5;124m_async\u001b[39m\u001b[38;5;124m\"\u001b[39m, \u001b[38;5;28;01mFalse\u001b[39;00m) \u001b[38;5;28;01melse\u001b[39;00m resp\n\u001b[1;32m    782\u001b[0m conn \u001b[38;5;241m=\u001b[39m \u001b[38;5;28mself\u001b[39m\u001b[38;5;241m.\u001b[39m_get_connection()\n\u001b[0;32m--> 783\u001b[0m resp \u001b[38;5;241m=\u001b[39m conn\u001b[38;5;241m.\u001b[39msearch(\n\u001b[1;32m    784\u001b[0m     \u001b[38;5;28mself\u001b[39m\u001b[38;5;241m.\u001b[39m_name,\n\u001b[1;32m    785\u001b[0m     data,\n\u001b[1;32m    786\u001b[0m     anns_field,\n\u001b[1;32m    787\u001b[0m     param,\n\u001b[1;32m    788\u001b[0m     limit,\n\u001b[1;32m    789\u001b[0m     expr,\n\u001b[1;32m    790\u001b[0m     partition_names,\n\u001b[1;32m    791\u001b[0m     output_fields,\n\u001b[1;32m    792\u001b[0m     round_decimal,\n\u001b[1;32m    793\u001b[0m     timeout\u001b[38;5;241m=\u001b[39mtimeout,\n\u001b[1;32m    794\u001b[0m     schema\u001b[38;5;241m=\u001b[39m\u001b[38;5;28mself\u001b[39m\u001b[38;5;241m.\u001b[39m_schema_dict,\n\u001b[1;32m    795\u001b[0m     \u001b[38;5;241m*\u001b[39m\u001b[38;5;241m*\u001b[39mkwargs,\n\u001b[1;32m    796\u001b[0m )\n\u001b[1;32m    798\u001b[0m \u001b[38;5;28;01mreturn\u001b[39;00m SearchFuture(resp) \u001b[38;5;28;01mif\u001b[39;00m kwargs\u001b[38;5;241m.\u001b[39mget(\u001b[38;5;124m\"\u001b[39m\u001b[38;5;124m_async\u001b[39m\u001b[38;5;124m\"\u001b[39m, \u001b[38;5;28;01mFalse\u001b[39;00m) \u001b[38;5;28;01melse\u001b[39;00m resp\n",
      "File \u001b[0;32m~/opt/anaconda3/envs/foodApp/lib/python3.11/site-packages/pymilvus/decorators.py:125\u001b[0m, in \u001b[0;36merror_handler.<locals>.wrapper.<locals>.handler\u001b[0;34m(*args, **kwargs)\u001b[0m\n\u001b[1;32m    123\u001b[0m \u001b[38;5;28;01mtry\u001b[39;00m:\n\u001b[1;32m    124\u001b[0m     record_dict[\u001b[38;5;124m\"\u001b[39m\u001b[38;5;124mRPC start\u001b[39m\u001b[38;5;124m\"\u001b[39m] \u001b[38;5;241m=\u001b[39m \u001b[38;5;28mstr\u001b[39m(datetime\u001b[38;5;241m.\u001b[39mdatetime\u001b[38;5;241m.\u001b[39mnow())\n\u001b[0;32m--> 125\u001b[0m     \u001b[38;5;28;01mreturn\u001b[39;00m func(\u001b[38;5;241m*\u001b[39margs, \u001b[38;5;241m*\u001b[39m\u001b[38;5;241m*\u001b[39mkwargs)\n\u001b[1;32m    126\u001b[0m \u001b[38;5;28;01mexcept\u001b[39;00m MilvusException \u001b[38;5;28;01mas\u001b[39;00m e:\n\u001b[1;32m    127\u001b[0m     record_dict[\u001b[38;5;124m\"\u001b[39m\u001b[38;5;124mRPC error\u001b[39m\u001b[38;5;124m\"\u001b[39m] \u001b[38;5;241m=\u001b[39m \u001b[38;5;28mstr\u001b[39m(datetime\u001b[38;5;241m.\u001b[39mdatetime\u001b[38;5;241m.\u001b[39mnow())\n",
      "File \u001b[0;32m~/opt/anaconda3/envs/foodApp/lib/python3.11/site-packages/pymilvus/decorators.py:164\u001b[0m, in \u001b[0;36mtracing_request.<locals>.wrapper.<locals>.handler\u001b[0;34m(self, *args, **kwargs)\u001b[0m\n\u001b[1;32m    162\u001b[0m \u001b[38;5;28;01mif\u001b[39;00m req_id:\n\u001b[1;32m    163\u001b[0m     \u001b[38;5;28mself\u001b[39m\u001b[38;5;241m.\u001b[39mset_onetime_request_id(req_id)\n\u001b[0;32m--> 164\u001b[0m \u001b[38;5;28;01mreturn\u001b[39;00m func(\u001b[38;5;28mself\u001b[39m, \u001b[38;5;241m*\u001b[39margs, \u001b[38;5;241m*\u001b[39m\u001b[38;5;241m*\u001b[39mkwargs)\n",
      "File \u001b[0;32m~/opt/anaconda3/envs/foodApp/lib/python3.11/site-packages/pymilvus/decorators.py:68\u001b[0m, in \u001b[0;36mretry_on_rpc_failure.<locals>.wrapper.<locals>.handler\u001b[0;34m(*args, **kwargs)\u001b[0m\n\u001b[1;32m     66\u001b[0m \u001b[38;5;28;01mwhile\u001b[39;00m \u001b[38;5;28;01mTrue\u001b[39;00m:\n\u001b[1;32m     67\u001b[0m     \u001b[38;5;28;01mtry\u001b[39;00m:\n\u001b[0;32m---> 68\u001b[0m         \u001b[38;5;28;01mreturn\u001b[39;00m func(\u001b[38;5;241m*\u001b[39margs, \u001b[38;5;241m*\u001b[39m\u001b[38;5;241m*\u001b[39mkwargs)\n\u001b[1;32m     69\u001b[0m     \u001b[38;5;28;01mexcept\u001b[39;00m grpc\u001b[38;5;241m.\u001b[39mRpcError \u001b[38;5;28;01mas\u001b[39;00m e:\n\u001b[1;32m     70\u001b[0m         \u001b[38;5;66;03m# Reference: https://grpc.github.io/grpc/python/grpc.html#grpc-status-code\u001b[39;00m\n\u001b[1;32m     71\u001b[0m         \u001b[38;5;28;01mif\u001b[39;00m e\u001b[38;5;241m.\u001b[39mcode() \u001b[38;5;129;01min\u001b[39;00m (\n\u001b[1;32m     72\u001b[0m             grpc\u001b[38;5;241m.\u001b[39mStatusCode\u001b[38;5;241m.\u001b[39mDEADLINE_EXCEEDED,\n\u001b[1;32m     73\u001b[0m             grpc\u001b[38;5;241m.\u001b[39mStatusCode\u001b[38;5;241m.\u001b[39mPERMISSION_DENIED,\n\u001b[0;32m   (...)\u001b[0m\n\u001b[1;32m     77\u001b[0m             grpc\u001b[38;5;241m.\u001b[39mStatusCode\u001b[38;5;241m.\u001b[39mRESOURCE_EXHAUSTED,\n\u001b[1;32m     78\u001b[0m         ):\n",
      "File \u001b[0;32m~/opt/anaconda3/envs/foodApp/lib/python3.11/site-packages/pymilvus/client/grpc_handler.py:781\u001b[0m, in \u001b[0;36mGrpcHandler.search\u001b[0;34m(self, collection_name, data, anns_field, param, limit, expression, partition_names, output_fields, round_decimal, timeout, **kwargs)\u001b[0m\n\u001b[1;32m    759\u001b[0m check_pass_param(\n\u001b[1;32m    760\u001b[0m     limit\u001b[38;5;241m=\u001b[39mlimit,\n\u001b[1;32m    761\u001b[0m     round_decimal\u001b[38;5;241m=\u001b[39mround_decimal,\n\u001b[0;32m   (...)\u001b[0m\n\u001b[1;32m    766\u001b[0m     guarantee_timestamp\u001b[38;5;241m=\u001b[39mkwargs\u001b[38;5;241m.\u001b[39mget(\u001b[38;5;124m\"\u001b[39m\u001b[38;5;124mguarantee_timestamp\u001b[39m\u001b[38;5;124m\"\u001b[39m, \u001b[38;5;28;01mNone\u001b[39;00m),\n\u001b[1;32m    767\u001b[0m )\n\u001b[1;32m    769\u001b[0m request \u001b[38;5;241m=\u001b[39m Prepare\u001b[38;5;241m.\u001b[39msearch_requests_with_expr(\n\u001b[1;32m    770\u001b[0m     collection_name,\n\u001b[1;32m    771\u001b[0m     data,\n\u001b[0;32m   (...)\u001b[0m\n\u001b[1;32m    779\u001b[0m     \u001b[38;5;241m*\u001b[39m\u001b[38;5;241m*\u001b[39mkwargs,\n\u001b[1;32m    780\u001b[0m )\n\u001b[0;32m--> 781\u001b[0m \u001b[38;5;28;01mreturn\u001b[39;00m \u001b[38;5;28mself\u001b[39m\u001b[38;5;241m.\u001b[39m_execute_search(request, timeout, round_decimal\u001b[38;5;241m=\u001b[39mround_decimal, \u001b[38;5;241m*\u001b[39m\u001b[38;5;241m*\u001b[39mkwargs)\n",
      "File \u001b[0;32m~/opt/anaconda3/envs/foodApp/lib/python3.11/site-packages/pymilvus/client/grpc_handler.py:732\u001b[0m, in \u001b[0;36mGrpcHandler._execute_search\u001b[0;34m(self, request, timeout, **kwargs)\u001b[0m\n\u001b[1;32m    729\u001b[0m     func \u001b[38;5;241m=\u001b[39m kwargs\u001b[38;5;241m.\u001b[39mget(\u001b[38;5;124m\"\u001b[39m\u001b[38;5;124m_callback\u001b[39m\u001b[38;5;124m\"\u001b[39m, \u001b[38;5;28;01mNone\u001b[39;00m)\n\u001b[1;32m    730\u001b[0m     \u001b[38;5;28;01mreturn\u001b[39;00m SearchFuture(future, func)\n\u001b[0;32m--> 732\u001b[0m response \u001b[38;5;241m=\u001b[39m \u001b[38;5;28mself\u001b[39m\u001b[38;5;241m.\u001b[39m_stub\u001b[38;5;241m.\u001b[39mSearch(request, timeout\u001b[38;5;241m=\u001b[39mtimeout)\n\u001b[1;32m    733\u001b[0m \u001b[38;5;28;01mif\u001b[39;00m response\u001b[38;5;241m.\u001b[39mstatus\u001b[38;5;241m.\u001b[39mcode \u001b[38;5;241m!=\u001b[39m \u001b[38;5;241m0\u001b[39m:\n\u001b[1;32m    734\u001b[0m     \u001b[38;5;28;01mraise\u001b[39;00m MilvusException(response\u001b[38;5;241m.\u001b[39mstatus\u001b[38;5;241m.\u001b[39mcode, response\u001b[38;5;241m.\u001b[39mstatus\u001b[38;5;241m.\u001b[39mreason)\n",
      "File \u001b[0;32m~/opt/anaconda3/envs/foodApp/lib/python3.11/site-packages/grpc/_interceptor.py:277\u001b[0m, in \u001b[0;36m_UnaryUnaryMultiCallable.__call__\u001b[0;34m(self, request, timeout, metadata, credentials, wait_for_ready, compression)\u001b[0m\n\u001b[1;32m    268\u001b[0m \u001b[38;5;28;01mdef\u001b[39;00m \u001b[38;5;21m__call__\u001b[39m(\n\u001b[1;32m    269\u001b[0m     \u001b[38;5;28mself\u001b[39m,\n\u001b[1;32m    270\u001b[0m     request: Any,\n\u001b[0;32m   (...)\u001b[0m\n\u001b[1;32m    275\u001b[0m     compression: Optional[grpc\u001b[38;5;241m.\u001b[39mCompression] \u001b[38;5;241m=\u001b[39m \u001b[38;5;28;01mNone\u001b[39;00m,\n\u001b[1;32m    276\u001b[0m ) \u001b[38;5;241m-\u001b[39m\u001b[38;5;241m>\u001b[39m Any:\n\u001b[0;32m--> 277\u001b[0m     response, ignored_call \u001b[38;5;241m=\u001b[39m \u001b[38;5;28mself\u001b[39m\u001b[38;5;241m.\u001b[39m_with_call(\n\u001b[1;32m    278\u001b[0m         request,\n\u001b[1;32m    279\u001b[0m         timeout\u001b[38;5;241m=\u001b[39mtimeout,\n\u001b[1;32m    280\u001b[0m         metadata\u001b[38;5;241m=\u001b[39mmetadata,\n\u001b[1;32m    281\u001b[0m         credentials\u001b[38;5;241m=\u001b[39mcredentials,\n\u001b[1;32m    282\u001b[0m         wait_for_ready\u001b[38;5;241m=\u001b[39mwait_for_ready,\n\u001b[1;32m    283\u001b[0m         compression\u001b[38;5;241m=\u001b[39mcompression,\n\u001b[1;32m    284\u001b[0m     )\n\u001b[1;32m    285\u001b[0m     \u001b[38;5;28;01mreturn\u001b[39;00m response\n",
      "File \u001b[0;32m~/opt/anaconda3/envs/foodApp/lib/python3.11/site-packages/grpc/_interceptor.py:329\u001b[0m, in \u001b[0;36m_UnaryUnaryMultiCallable._with_call\u001b[0;34m(self, request, timeout, metadata, credentials, wait_for_ready, compression)\u001b[0m\n\u001b[1;32m    326\u001b[0m     \u001b[38;5;28;01mexcept\u001b[39;00m \u001b[38;5;167;01mException\u001b[39;00m \u001b[38;5;28;01mas\u001b[39;00m exception:  \u001b[38;5;66;03m# pylint:disable=broad-except\u001b[39;00m\n\u001b[1;32m    327\u001b[0m         \u001b[38;5;28;01mreturn\u001b[39;00m _FailureOutcome(exception, sys\u001b[38;5;241m.\u001b[39mexc_info()[\u001b[38;5;241m2\u001b[39m])\n\u001b[0;32m--> 329\u001b[0m call \u001b[38;5;241m=\u001b[39m \u001b[38;5;28mself\u001b[39m\u001b[38;5;241m.\u001b[39m_interceptor\u001b[38;5;241m.\u001b[39mintercept_unary_unary(\n\u001b[1;32m    330\u001b[0m     continuation, client_call_details, request\n\u001b[1;32m    331\u001b[0m )\n\u001b[1;32m    332\u001b[0m \u001b[38;5;28;01mreturn\u001b[39;00m call\u001b[38;5;241m.\u001b[39mresult(), call\n",
      "File \u001b[0;32m~/opt/anaconda3/envs/foodApp/lib/python3.11/site-packages/pymilvus/client/interceptor.py:35\u001b[0m, in \u001b[0;36m_GenericClientInterceptor.intercept_unary_unary\u001b[0;34m(self, continuation, client_call_details, request)\u001b[0m\n\u001b[1;32m     31\u001b[0m \u001b[38;5;28;01mdef\u001b[39;00m \u001b[38;5;21mintercept_unary_unary\u001b[39m(\u001b[38;5;28mself\u001b[39m, continuation: Callable, client_call_details: Any, request: Any):\n\u001b[1;32m     32\u001b[0m     new_details, new_request_iterator, postprocess \u001b[38;5;241m=\u001b[39m \u001b[38;5;28mself\u001b[39m\u001b[38;5;241m.\u001b[39m_fn(\n\u001b[1;32m     33\u001b[0m         client_call_details, \u001b[38;5;28miter\u001b[39m((request,))\n\u001b[1;32m     34\u001b[0m     )\n\u001b[0;32m---> 35\u001b[0m     response \u001b[38;5;241m=\u001b[39m continuation(new_details, \u001b[38;5;28mnext\u001b[39m(new_request_iterator))\n\u001b[1;32m     36\u001b[0m     \u001b[38;5;28;01mreturn\u001b[39;00m postprocess(response) \u001b[38;5;28;01mif\u001b[39;00m postprocess \u001b[38;5;28;01melse\u001b[39;00m response\n",
      "File \u001b[0;32m~/opt/anaconda3/envs/foodApp/lib/python3.11/site-packages/grpc/_interceptor.py:315\u001b[0m, in \u001b[0;36m_UnaryUnaryMultiCallable._with_call.<locals>.continuation\u001b[0;34m(new_details, request)\u001b[0m\n\u001b[1;32m    306\u001b[0m (\n\u001b[1;32m    307\u001b[0m     new_method,\n\u001b[1;32m    308\u001b[0m     new_timeout,\n\u001b[0;32m   (...)\u001b[0m\n\u001b[1;32m    312\u001b[0m     new_compression,\n\u001b[1;32m    313\u001b[0m ) \u001b[38;5;241m=\u001b[39m _unwrap_client_call_details(new_details, client_call_details)\n\u001b[1;32m    314\u001b[0m \u001b[38;5;28;01mtry\u001b[39;00m:\n\u001b[0;32m--> 315\u001b[0m     response, call \u001b[38;5;241m=\u001b[39m \u001b[38;5;28mself\u001b[39m\u001b[38;5;241m.\u001b[39m_thunk(new_method)\u001b[38;5;241m.\u001b[39mwith_call(\n\u001b[1;32m    316\u001b[0m         request,\n\u001b[1;32m    317\u001b[0m         timeout\u001b[38;5;241m=\u001b[39mnew_timeout,\n\u001b[1;32m    318\u001b[0m         metadata\u001b[38;5;241m=\u001b[39mnew_metadata,\n\u001b[1;32m    319\u001b[0m         credentials\u001b[38;5;241m=\u001b[39mnew_credentials,\n\u001b[1;32m    320\u001b[0m         wait_for_ready\u001b[38;5;241m=\u001b[39mnew_wait_for_ready,\n\u001b[1;32m    321\u001b[0m         compression\u001b[38;5;241m=\u001b[39mnew_compression,\n\u001b[1;32m    322\u001b[0m     )\n\u001b[1;32m    323\u001b[0m     \u001b[38;5;28;01mreturn\u001b[39;00m _UnaryOutcome(response, call)\n\u001b[1;32m    324\u001b[0m \u001b[38;5;28;01mexcept\u001b[39;00m grpc\u001b[38;5;241m.\u001b[39mRpcError \u001b[38;5;28;01mas\u001b[39;00m rpc_error:\n",
      "File \u001b[0;32m~/opt/anaconda3/envs/foodApp/lib/python3.11/site-packages/grpc/_interceptor.py:343\u001b[0m, in \u001b[0;36m_UnaryUnaryMultiCallable.with_call\u001b[0;34m(self, request, timeout, metadata, credentials, wait_for_ready, compression)\u001b[0m\n\u001b[1;32m    334\u001b[0m \u001b[38;5;28;01mdef\u001b[39;00m \u001b[38;5;21mwith_call\u001b[39m(\n\u001b[1;32m    335\u001b[0m     \u001b[38;5;28mself\u001b[39m,\n\u001b[1;32m    336\u001b[0m     request: Any,\n\u001b[0;32m   (...)\u001b[0m\n\u001b[1;32m    341\u001b[0m     compression: Optional[grpc\u001b[38;5;241m.\u001b[39mCompression] \u001b[38;5;241m=\u001b[39m \u001b[38;5;28;01mNone\u001b[39;00m,\n\u001b[1;32m    342\u001b[0m ) \u001b[38;5;241m-\u001b[39m\u001b[38;5;241m>\u001b[39m Tuple[Any, grpc\u001b[38;5;241m.\u001b[39mCall]:\n\u001b[0;32m--> 343\u001b[0m     \u001b[38;5;28;01mreturn\u001b[39;00m \u001b[38;5;28mself\u001b[39m\u001b[38;5;241m.\u001b[39m_with_call(\n\u001b[1;32m    344\u001b[0m         request,\n\u001b[1;32m    345\u001b[0m         timeout\u001b[38;5;241m=\u001b[39mtimeout,\n\u001b[1;32m    346\u001b[0m         metadata\u001b[38;5;241m=\u001b[39mmetadata,\n\u001b[1;32m    347\u001b[0m         credentials\u001b[38;5;241m=\u001b[39mcredentials,\n\u001b[1;32m    348\u001b[0m         wait_for_ready\u001b[38;5;241m=\u001b[39mwait_for_ready,\n\u001b[1;32m    349\u001b[0m         compression\u001b[38;5;241m=\u001b[39mcompression,\n\u001b[1;32m    350\u001b[0m     )\n",
      "File \u001b[0;32m~/opt/anaconda3/envs/foodApp/lib/python3.11/site-packages/grpc/_interceptor.py:329\u001b[0m, in \u001b[0;36m_UnaryUnaryMultiCallable._with_call\u001b[0;34m(self, request, timeout, metadata, credentials, wait_for_ready, compression)\u001b[0m\n\u001b[1;32m    326\u001b[0m     \u001b[38;5;28;01mexcept\u001b[39;00m \u001b[38;5;167;01mException\u001b[39;00m \u001b[38;5;28;01mas\u001b[39;00m exception:  \u001b[38;5;66;03m# pylint:disable=broad-except\u001b[39;00m\n\u001b[1;32m    327\u001b[0m         \u001b[38;5;28;01mreturn\u001b[39;00m _FailureOutcome(exception, sys\u001b[38;5;241m.\u001b[39mexc_info()[\u001b[38;5;241m2\u001b[39m])\n\u001b[0;32m--> 329\u001b[0m call \u001b[38;5;241m=\u001b[39m \u001b[38;5;28mself\u001b[39m\u001b[38;5;241m.\u001b[39m_interceptor\u001b[38;5;241m.\u001b[39mintercept_unary_unary(\n\u001b[1;32m    330\u001b[0m     continuation, client_call_details, request\n\u001b[1;32m    331\u001b[0m )\n\u001b[1;32m    332\u001b[0m \u001b[38;5;28;01mreturn\u001b[39;00m call\u001b[38;5;241m.\u001b[39mresult(), call\n",
      "File \u001b[0;32m~/opt/anaconda3/envs/foodApp/lib/python3.11/site-packages/pymilvus/client/interceptor.py:35\u001b[0m, in \u001b[0;36m_GenericClientInterceptor.intercept_unary_unary\u001b[0;34m(self, continuation, client_call_details, request)\u001b[0m\n\u001b[1;32m     31\u001b[0m \u001b[38;5;28;01mdef\u001b[39;00m \u001b[38;5;21mintercept_unary_unary\u001b[39m(\u001b[38;5;28mself\u001b[39m, continuation: Callable, client_call_details: Any, request: Any):\n\u001b[1;32m     32\u001b[0m     new_details, new_request_iterator, postprocess \u001b[38;5;241m=\u001b[39m \u001b[38;5;28mself\u001b[39m\u001b[38;5;241m.\u001b[39m_fn(\n\u001b[1;32m     33\u001b[0m         client_call_details, \u001b[38;5;28miter\u001b[39m((request,))\n\u001b[1;32m     34\u001b[0m     )\n\u001b[0;32m---> 35\u001b[0m     response \u001b[38;5;241m=\u001b[39m continuation(new_details, \u001b[38;5;28mnext\u001b[39m(new_request_iterator))\n\u001b[1;32m     36\u001b[0m     \u001b[38;5;28;01mreturn\u001b[39;00m postprocess(response) \u001b[38;5;28;01mif\u001b[39;00m postprocess \u001b[38;5;28;01melse\u001b[39;00m response\n",
      "File \u001b[0;32m~/opt/anaconda3/envs/foodApp/lib/python3.11/site-packages/grpc/_interceptor.py:315\u001b[0m, in \u001b[0;36m_UnaryUnaryMultiCallable._with_call.<locals>.continuation\u001b[0;34m(new_details, request)\u001b[0m\n\u001b[1;32m    306\u001b[0m (\n\u001b[1;32m    307\u001b[0m     new_method,\n\u001b[1;32m    308\u001b[0m     new_timeout,\n\u001b[0;32m   (...)\u001b[0m\n\u001b[1;32m    312\u001b[0m     new_compression,\n\u001b[1;32m    313\u001b[0m ) \u001b[38;5;241m=\u001b[39m _unwrap_client_call_details(new_details, client_call_details)\n\u001b[1;32m    314\u001b[0m \u001b[38;5;28;01mtry\u001b[39;00m:\n\u001b[0;32m--> 315\u001b[0m     response, call \u001b[38;5;241m=\u001b[39m \u001b[38;5;28mself\u001b[39m\u001b[38;5;241m.\u001b[39m_thunk(new_method)\u001b[38;5;241m.\u001b[39mwith_call(\n\u001b[1;32m    316\u001b[0m         request,\n\u001b[1;32m    317\u001b[0m         timeout\u001b[38;5;241m=\u001b[39mnew_timeout,\n\u001b[1;32m    318\u001b[0m         metadata\u001b[38;5;241m=\u001b[39mnew_metadata,\n\u001b[1;32m    319\u001b[0m         credentials\u001b[38;5;241m=\u001b[39mnew_credentials,\n\u001b[1;32m    320\u001b[0m         wait_for_ready\u001b[38;5;241m=\u001b[39mnew_wait_for_ready,\n\u001b[1;32m    321\u001b[0m         compression\u001b[38;5;241m=\u001b[39mnew_compression,\n\u001b[1;32m    322\u001b[0m     )\n\u001b[1;32m    323\u001b[0m     \u001b[38;5;28;01mreturn\u001b[39;00m _UnaryOutcome(response, call)\n\u001b[1;32m    324\u001b[0m \u001b[38;5;28;01mexcept\u001b[39;00m grpc\u001b[38;5;241m.\u001b[39mRpcError \u001b[38;5;28;01mas\u001b[39;00m rpc_error:\n",
      "File \u001b[0;32m~/opt/anaconda3/envs/foodApp/lib/python3.11/site-packages/grpc/_channel.py:1175\u001b[0m, in \u001b[0;36m_UnaryUnaryMultiCallable.with_call\u001b[0;34m(self, request, timeout, metadata, credentials, wait_for_ready, compression)\u001b[0m\n\u001b[1;32m   1163\u001b[0m \u001b[38;5;28;01mdef\u001b[39;00m \u001b[38;5;21mwith_call\u001b[39m(\n\u001b[1;32m   1164\u001b[0m     \u001b[38;5;28mself\u001b[39m,\n\u001b[1;32m   1165\u001b[0m     request: Any,\n\u001b[0;32m   (...)\u001b[0m\n\u001b[1;32m   1170\u001b[0m     compression: Optional[grpc\u001b[38;5;241m.\u001b[39mCompression] \u001b[38;5;241m=\u001b[39m \u001b[38;5;28;01mNone\u001b[39;00m,\n\u001b[1;32m   1171\u001b[0m ) \u001b[38;5;241m-\u001b[39m\u001b[38;5;241m>\u001b[39m Tuple[Any, grpc\u001b[38;5;241m.\u001b[39mCall]:\n\u001b[1;32m   1172\u001b[0m     (\n\u001b[1;32m   1173\u001b[0m         state,\n\u001b[1;32m   1174\u001b[0m         call,\n\u001b[0;32m-> 1175\u001b[0m     ) \u001b[38;5;241m=\u001b[39m \u001b[38;5;28mself\u001b[39m\u001b[38;5;241m.\u001b[39m_blocking(\n\u001b[1;32m   1176\u001b[0m         request, timeout, metadata, credentials, wait_for_ready, compression\n\u001b[1;32m   1177\u001b[0m     )\n\u001b[1;32m   1178\u001b[0m     \u001b[38;5;28;01mreturn\u001b[39;00m _end_unary_response_blocking(state, call, \u001b[38;5;28;01mTrue\u001b[39;00m, \u001b[38;5;28;01mNone\u001b[39;00m)\n",
      "File \u001b[0;32m~/opt/anaconda3/envs/foodApp/lib/python3.11/site-packages/grpc/_channel.py:1142\u001b[0m, in \u001b[0;36m_UnaryUnaryMultiCallable._blocking\u001b[0;34m(self, request, timeout, metadata, credentials, wait_for_ready, compression)\u001b[0m\n\u001b[1;32m   1126\u001b[0m state\u001b[38;5;241m.\u001b[39mmethod \u001b[38;5;241m=\u001b[39m _common\u001b[38;5;241m.\u001b[39mdecode(\u001b[38;5;28mself\u001b[39m\u001b[38;5;241m.\u001b[39m_method)\n\u001b[1;32m   1127\u001b[0m call \u001b[38;5;241m=\u001b[39m \u001b[38;5;28mself\u001b[39m\u001b[38;5;241m.\u001b[39m_channel\u001b[38;5;241m.\u001b[39msegregated_call(\n\u001b[1;32m   1128\u001b[0m     cygrpc\u001b[38;5;241m.\u001b[39mPropagationConstants\u001b[38;5;241m.\u001b[39mGRPC_PROPAGATE_DEFAULTS,\n\u001b[1;32m   1129\u001b[0m     \u001b[38;5;28mself\u001b[39m\u001b[38;5;241m.\u001b[39m_method,\n\u001b[0;32m   (...)\u001b[0m\n\u001b[1;32m   1140\u001b[0m     \u001b[38;5;28mself\u001b[39m\u001b[38;5;241m.\u001b[39m_context,\n\u001b[1;32m   1141\u001b[0m )\n\u001b[0;32m-> 1142\u001b[0m event \u001b[38;5;241m=\u001b[39m call\u001b[38;5;241m.\u001b[39mnext_event()\n\u001b[1;32m   1143\u001b[0m _handle_event(event, state, \u001b[38;5;28mself\u001b[39m\u001b[38;5;241m.\u001b[39m_response_deserializer)\n\u001b[1;32m   1144\u001b[0m \u001b[38;5;28;01mreturn\u001b[39;00m state, call\n",
      "File \u001b[0;32msrc/python/grpcio/grpc/_cython/_cygrpc/channel.pyx.pxi:366\u001b[0m, in \u001b[0;36mgrpc._cython.cygrpc.SegregatedCall.next_event\u001b[0;34m()\u001b[0m\n",
      "File \u001b[0;32msrc/python/grpcio/grpc/_cython/_cygrpc/channel.pyx.pxi:187\u001b[0m, in \u001b[0;36mgrpc._cython.cygrpc._next_call_event\u001b[0;34m()\u001b[0m\n",
      "File \u001b[0;32msrc/python/grpcio/grpc/_cython/_cygrpc/channel.pyx.pxi:181\u001b[0m, in \u001b[0;36mgrpc._cython.cygrpc._next_call_event\u001b[0;34m()\u001b[0m\n",
      "File \u001b[0;32msrc/python/grpcio/grpc/_cython/_cygrpc/completion_queue.pyx.pxi:78\u001b[0m, in \u001b[0;36mgrpc._cython.cygrpc._latent_event\u001b[0;34m()\u001b[0m\n",
      "File \u001b[0;32msrc/python/grpcio/grpc/_cython/_cygrpc/completion_queue.pyx.pxi:61\u001b[0m, in \u001b[0;36mgrpc._cython.cygrpc._internal_latent_event\u001b[0;34m()\u001b[0m\n",
      "File \u001b[0;32msrc/python/grpcio/grpc/_cython/_cygrpc/completion_queue.pyx.pxi:42\u001b[0m, in \u001b[0;36mgrpc._cython.cygrpc._next\u001b[0;34m()\u001b[0m\n",
      "\u001b[0;31mKeyboardInterrupt\u001b[0m: "
     ]
    }
   ],
   "source": [
    "# search_expr = 'price_range == \\\"$$\\\"'\n",
    "# result_docs = vector_store.similarity_search(query, search_expr)\n",
    "result_docs = vector_store.similarity_search(query)"
   ]
  },
  {
   "cell_type": "code",
   "execution_count": 85,
   "id": "8f614c6e",
   "metadata": {},
   "outputs": [
    {
     "name": "stdout",
     "output_type": "stream",
     "text": [
      "\n",
      "Restaurant: Winner on Franklin\n",
      "Review: The Breakfast Sandwich\n",
      "\n",
      "This is a tried and true sandwich. If you live near Winner on Franklin, we hope you know this already. If not, swing by and eat it. Soon. You should add the optional Chinese sausage, but the custardy eggs with homemade chili crisp will be good even without it.\n",
      "\n",
      "\n",
      "Patties\n",
      "\n",
      "The patties here are crispy on the outside, smooth and meaty on the inside, and also $6 or more. We like them, but in an area full of excellent patties, we usually opt for something else. \n",
      "\n",
      "\n",
      "Chicken Katsu\n",
      "\n",
      "When they actually have it, this is one of the best things on the menu. The dinner version comes on furikake brioche, but we prefer the lunchtime variety, which comes between two thick slices of milk bread, is about the size of your head, and slathered with Taiwanese-style three-cup sauce. An underrated part of consuming sandwiches is eating all the things that fall out of them after, and this sandwich produces a lot of these post-sandwich bites. \n",
      "\n",
      "\n",
      "Veggie Banh Mi\n",
      "\n",
      "It’s not as good as the one at the OG [Winner](https://www.theinfatuation.com/new-york/reviews/winner &quot;https://www.theinfatuation.com/new-york/reviews/winner&quot;) (long live the mushroom pate), but this is a crowd-pleasing meatless sandwich, and is also spectacularly saucy. Winner on Franklin is good at sauce. \n",
      "\n",
      "\n",
      "Garlic Bread Grilled Cheese\n",
      "\n",
      "We love a buttery grilled cheese as much as the next person, but this one, available at lunch, is greasy to the point of no return. Avoid, unless you are very close to home and can spend the rest of your day lying on the couch.\n",
      "\n",
      "\n",
      "Cheeseburger\n",
      "\n",
      "The fermented chili remoulade on this burger puts all special sauces to shame. This is the burger to sit at the bar alone with, and not just because it comes with a thick layer of onion that you might need to follow with multiple pieces of gum. Pair with a glass of wine or a frozen margarita, and definitely do not share. \n",
      "\n",
      "\n",
      "Summer Salad\n",
      "\n",
      "This one will probably change with the seasons. And while it won’t change your life, it’s got a creamy, ranch-adjacent dressing and lots of vegetables for that much needed crunch alongside a burger. \n",
      "\n",
      "\n",
      "Crispy Vegetables\n",
      "\n",
      "You don’t need to order these tempura-style vegetables, but in a world where small plates just keep getting smaller, this is a welcome larger option, especially if you end up here with a group. The veggies are pleasantly crispy and served with a nam prik sauce. Again with the sauce!\n",
      "\n",
      "\n",
      "\n",
      "Charcuterie\n",
      "Price Range: $$\n",
      "\n",
      "\n",
      "Restaurant: Super Taste\n",
      "Review: ​​In 2050, food historians will probably declare the 2023 opening of Super Taste as having changed the Upper East Side takeout scene forever. Groundbreaking restaurant news, right up there with the return of cottage fries at J.G. Melon, and Papaya King moving from one side of the street to the other.  At this Chinatown noodle spot’s second location, nothing costs over $13.50, and the stewed pork burger on a sesame pancake bun might be the best $5.95 you can spend within a mile of the Met. This small storefront is geared towards takeout, but you could eat a plate of fried pork and chive dumplings at one of the tables if desired—if not, walk 15 minutes to Central Park, and enjoy your Lanzhou-style, spicy beef hand-pulled noodle soup under some trees.\n",
      "Price Range: $\n",
      "\n",
      "\n",
      "Restaurant: Dora's Restaurant\n",
      "Review: The dinner you have before you go out is very important. It sets the tone for the rest of the evening, and if you go somewhere boring, you may end up falling asleep standing up later on the dance floor. So, the next time you’re looking for a relatively affordable pre-going out dinner in the East Village, go to Dora’s, a Peruvian spot where the sangria comes in at least six different flavors, and the music plays at a club-level volume. The large, casual space has plastic chairs, a full bar, and a Good Vibes sign that is only sometimes turned on. Order a bunch of ceviches to share, a few rounds of sangria, and maybe even a paella. And if your night begins and ends here, we think that’d be just fine with Dora.\n",
      "Price Range: $\n",
      "\n",
      "\n",
      "Restaurant: Chi\n",
      "Review: For a spot across from the Lincoln Tunnel, Chi exceeds all expectations. Open for lunch and dinner, the restaurant has two interconnected dining rooms with comfy leather furniture and slate gray walls, as well as a bar up front where you can hang out and drink some baijiu or a glass of champagne. The menu focuses on Sichuan food—with dishes like springy dan dan noodles and delicate mapo tofu—although there’s really a bit of everything. Options include dim sum, Korean wings, Peking duck, and tender cumin lamb that arrives smothered in spices. Aside from that lamb, the flavors here can run a bit mild, but this is still one of best options for an impressive group meal within walking distance of Penn Station.\n",
      "Price Range: $$$\n",
      "\n"
     ]
    }
   ],
   "source": [
    "for resto in result_docs:\n",
    "    resto_name = resto.metadata['resto_name']\n",
    "    price_range = resto.metadata['price_range']\n",
    "    perfect_for = resto.metadata['perfect_for_tags']\n",
    "    review = resto.page_content\n",
    "    print(f\"\\nRestaurant: {resto_name}\\nReview: {review}\\nPrice Range: {price_range}\\n\")"
   ]
  },
  {
   "cell_type": "code",
   "execution_count": null,
   "id": "d606c9f7",
   "metadata": {},
   "outputs": [],
   "source": []
  }
 ],
 "metadata": {
  "kernelspec": {
   "display_name": "foodApp",
   "language": "python",
   "name": "foodapp"
  },
  "language_info": {
   "codemirror_mode": {
    "name": "ipython",
    "version": 3
   },
   "file_extension": ".py",
   "mimetype": "text/x-python",
   "name": "python",
   "nbconvert_exporter": "python",
   "pygments_lexer": "ipython3",
   "version": "3.11.5"
  }
 },
 "nbformat": 4,
 "nbformat_minor": 5
}
