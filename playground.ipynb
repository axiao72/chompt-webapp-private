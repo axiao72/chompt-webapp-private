{
 "cells": [
  {
   "cell_type": "code",
   "execution_count": 1,
   "metadata": {},
   "outputs": [],
   "source": [
    "import langchain\n",
    "import openai\n",
    "import requests\n",
    "from yelpapi import YelpAPI"
   ]
  },
  {
   "cell_type": "code",
   "execution_count": 35,
   "metadata": {},
   "outputs": [
    {
     "name": "stdout",
     "output_type": "stream",
     "text": [
      "{\"error\": {\"code\": \"NOT_FOUND\", \"description\": \"Resource could not be found.\"}}\n"
     ]
    }
   ],
   "source": [
    "url = \"https://api.yelp.com/v3/businesses/business_id_or_alias/review_highlights?count=3\"\n",
    "\n",
    "headers = {\"accept\": \"application/json\",\n",
    "            \"Authorization\": f\"Bearer {yelp_api_key}\",\n",
    "            \"id\": 'merry-monarch-creamery-austin'}\n",
    "\n",
    "response = requests.get(url, headers=headers)\n",
    "\n",
    "print(response.text)"
   ]
  },
  {
   "cell_type": "code",
   "execution_count": null,
   "metadata": {},
   "outputs": [],
   "source": []
  },
  {
   "cell_type": "code",
   "execution_count": null,
   "metadata": {},
   "outputs": [],
   "source": []
  },
  {
   "cell_type": "code",
   "execution_count": 2,
   "metadata": {},
   "outputs": [],
   "source": [
    "yelp_api_key = 'f6lx4Zbdgaf6jPUk9g26HFx9lkuzXGTYWXiJibkLHEdbsqncM_sFy9dSBNshsVzabOYLEWaN8DogaeoNj_mOQHcdnlqsmPART6xhWxUvKOd_FkoCnskdIgP0ZZIXZXYx'"
   ]
  },
  {
   "cell_type": "code",
   "execution_count": 3,
   "metadata": {},
   "outputs": [
    {
     "name": "stdout",
     "output_type": "stream",
     "text": [
      "3\n",
      "{'id': 'lh6brf1AOeRxuvdAARDefA', 'alias': 'merry-monarch-creamery-austin', 'name': 'Merry Monarch Creamery', 'image_url': 'https://s3-media2.fl.yelpcdn.com/bphoto/jVO8-lcBsnwiLUtlXXRSZw/o.jpg', 'is_closed': False, 'url': 'https://www.yelp.com/biz/merry-monarch-creamery-austin?adjust_creative=8E5JiijjNKCQbt_efRDkoA&utm_campaign=yelp_api_v3&utm_medium=api_v3_business_search&utm_source=8E5JiijjNKCQbt_efRDkoA', 'review_count': 34, 'categories': [{'alias': 'icecream', 'title': 'Ice Cream & Frozen Yogurt'}], 'rating': 5.0, 'coordinates': {'latitude': 30.32118, 'longitude': -97.7395}, 'transactions': [], 'location': {'address1': '5000 Burnet Rd', 'address2': None, 'address3': '', 'city': 'Austin', 'zip_code': '78731', 'country': 'US', 'state': 'TX', 'display_address': ['5000 Burnet Rd', 'Austin, TX 78731']}, 'phone': '+15125877202', 'display_phone': '(512) 587-7202', 'distance': 2499.361548912391}\n"
     ]
    }
   ],
   "source": [
    "with YelpAPI(yelp_api_key) as yelp_api:\n",
    "    response = yelp_api.search_query(term='ice cream', location='austin, tx', sort_by='rating')\n",
    "    print(len(response))\n",
    "    print(response['businesses'][0])"
   ]
  },
  {
   "cell_type": "code",
   "execution_count": 26,
   "metadata": {},
   "outputs": [],
   "source": [
    "with YelpAPI(yelp_api_key) as yelp_api:\n",
    "    response = yelp_api.reviews_query(id='merry-monarch-creamery-austin', \n",
    "                                        limit=1\n",
    "                                        # term='ice cream', \n",
    "                                        # location='austin, tx', \n",
    "                                        # sort_by='rating'\n",
    "                                        )\n",
    "    "
   ]
  },
  {
   "cell_type": "code",
   "execution_count": null,
   "metadata": {},
   "outputs": [],
   "source": []
  },
  {
   "cell_type": "code",
   "execution_count": 27,
   "metadata": {},
   "outputs": [
    {
     "data": {
      "text/plain": [
       "{'id': 'qNOTFCJXc6WRUv2c-tfZiA',\n",
       " 'url': 'https://www.yelp.com/biz/merry-monarch-creamery-austin?adjust_creative=8E5JiijjNKCQbt_efRDkoA&hrid=qNOTFCJXc6WRUv2c-tfZiA&utm_campaign=yelp_api_v3&utm_medium=api_v3_business_reviews&utm_source=8E5JiijjNKCQbt_efRDkoA',\n",
       " 'text': 'I finally went here, and oh my gosh, the mango sticky rice flavor was so good. It tastes intensely of mango, is super creamy and refreshing, and has bits of...',\n",
       " 'rating': 5,\n",
       " 'time_created': '2023-08-21 16:22:41',\n",
       " 'user': {'id': 'nid530igknKFolBCSXcREw',\n",
       "  'profile_url': 'https://www.yelp.com/user_details?userid=nid530igknKFolBCSXcREw',\n",
       "  'image_url': 'https://s3-media2.fl.yelpcdn.com/photo/3lQMbKoy5Eu2ZxA6EJgtFQ/o.jpg',\n",
       "  'name': 'Lauren A.'}}"
      ]
     },
     "execution_count": 27,
     "metadata": {},
     "output_type": "execute_result"
    }
   ],
   "source": [
    "response['reviews'][0]"
   ]
  },
  {
   "cell_type": "code",
   "execution_count": 22,
   "metadata": {},
   "outputs": [
    {
     "data": {
      "text/plain": [
       "dict_keys(['reviews', 'total', 'possible_languages'])"
      ]
     },
     "execution_count": 22,
     "metadata": {},
     "output_type": "execute_result"
    }
   ],
   "source": [
    "response.keys()"
   ]
  },
  {
   "cell_type": "code",
   "execution_count": 25,
   "metadata": {},
   "outputs": [
    {
     "data": {
      "text/plain": [
       "3"
      ]
     },
     "execution_count": 25,
     "metadata": {},
     "output_type": "execute_result"
    }
   ],
   "source": [
    "len(response['reviews'])"
   ]
  },
  {
   "cell_type": "code",
   "execution_count": null,
   "metadata": {},
   "outputs": [],
   "source": []
  },
  {
   "cell_type": "code",
   "execution_count": null,
   "metadata": {},
   "outputs": [],
   "source": []
  },
  {
   "cell_type": "code",
   "execution_count": null,
   "metadata": {},
   "outputs": [],
   "source": []
  },
  {
   "cell_type": "code",
   "execution_count": 20,
   "metadata": {},
   "outputs": [
    {
     "data": {
      "text/plain": [
       "34"
      ]
     },
     "execution_count": 20,
     "metadata": {},
     "output_type": "execute_result"
    }
   ],
   "source": [
    "response['total']"
   ]
  },
  {
   "cell_type": "code",
   "execution_count": null,
   "metadata": {},
   "outputs": [],
   "source": []
  },
  {
   "cell_type": "code",
   "execution_count": null,
   "metadata": {},
   "outputs": [],
   "source": []
  },
  {
   "cell_type": "code",
   "execution_count": null,
   "metadata": {},
   "outputs": [],
   "source": []
  },
  {
   "cell_type": "code",
   "execution_count": null,
   "metadata": {},
   "outputs": [],
   "source": []
  },
  {
   "cell_type": "code",
   "execution_count": null,
   "metadata": {},
   "outputs": [],
   "source": []
  },
  {
   "cell_type": "code",
   "execution_count": null,
   "metadata": {},
   "outputs": [],
   "source": []
  },
  {
   "cell_type": "code",
   "execution_count": 10,
   "metadata": {},
   "outputs": [
    {
     "data": {
      "text/plain": [
       "{'id': 'lh6brf1AOeRxuvdAARDefA',\n",
       " 'alias': 'merry-monarch-creamery-austin',\n",
       " 'name': 'Merry Monarch Creamery',\n",
       " 'image_url': 'https://s3-media2.fl.yelpcdn.com/bphoto/jVO8-lcBsnwiLUtlXXRSZw/o.jpg',\n",
       " 'is_closed': False,\n",
       " 'url': 'https://www.yelp.com/biz/merry-monarch-creamery-austin?adjust_creative=8E5JiijjNKCQbt_efRDkoA&utm_campaign=yelp_api_v3&utm_medium=api_v3_business_search&utm_source=8E5JiijjNKCQbt_efRDkoA',\n",
       " 'review_count': 34,\n",
       " 'categories': [{'alias': 'icecream', 'title': 'Ice Cream & Frozen Yogurt'}],\n",
       " 'rating': 5.0,\n",
       " 'coordinates': {'latitude': 30.32118, 'longitude': -97.7395},\n",
       " 'transactions': [],\n",
       " 'location': {'address1': '5000 Burnet Rd',\n",
       "  'address2': None,\n",
       "  'address3': '',\n",
       "  'city': 'Austin',\n",
       "  'zip_code': '78731',\n",
       "  'country': 'US',\n",
       "  'state': 'TX',\n",
       "  'display_address': ['5000 Burnet Rd', 'Austin, TX 78731']},\n",
       " 'phone': '+15125877202',\n",
       " 'display_phone': '(512) 587-7202',\n",
       " 'distance': 2499.361548912391}"
      ]
     },
     "execution_count": 10,
     "metadata": {},
     "output_type": "execute_result"
    }
   ],
   "source": [
    "response['businesses'][0]"
   ]
  },
  {
   "cell_type": "code",
   "execution_count": null,
   "metadata": {},
   "outputs": [],
   "source": []
  },
  {
   "cell_type": "code",
   "execution_count": null,
   "metadata": {},
   "outputs": [],
   "source": []
  },
  {
   "cell_type": "code",
   "execution_count": null,
   "metadata": {},
   "outputs": [],
   "source": []
  },
  {
   "cell_type": "code",
   "execution_count": null,
   "metadata": {},
   "outputs": [],
   "source": []
  },
  {
   "cell_type": "code",
   "execution_count": 8,
   "metadata": {},
   "outputs": [
    {
     "data": {
      "text/plain": [
       "dict"
      ]
     },
     "execution_count": 8,
     "metadata": {},
     "output_type": "execute_result"
    }
   ],
   "source": []
  },
  {
   "cell_type": "code",
   "execution_count": null,
   "metadata": {},
   "outputs": [],
   "source": []
  },
  {
   "cell_type": "code",
   "execution_count": null,
   "metadata": {},
   "outputs": [],
   "source": []
  },
  {
   "cell_type": "code",
   "execution_count": null,
   "metadata": {},
   "outputs": [],
   "source": []
  },
  {
   "cell_type": "code",
   "execution_count": 24,
   "metadata": {},
   "outputs": [],
   "source": [
    "import math"
   ]
  },
  {
   "cell_type": "code",
   "execution_count": 1,
   "metadata": {},
   "outputs": [
    {
     "name": "stdout",
     "output_type": "stream",
     "text": [
      "h\n",
      "e\n",
      "l\n",
      "l\n",
      "o\n"
     ]
    }
   ],
   "source": [
    "string = 'hello'\n",
    "string2 = 'bye'\n",
    "for i in range(len(string)):\n",
    "    print(string[i])"
   ]
  },
  {
   "cell_type": "code",
   "execution_count": 3,
   "metadata": {},
   "outputs": [
    {
     "data": {
      "text/plain": [
       "''"
      ]
     },
     "execution_count": 3,
     "metadata": {},
     "output_type": "execute_result"
    }
   ],
   "source": [
    "string[10:]"
   ]
  },
  {
   "cell_type": "code",
   "execution_count": 16,
   "metadata": {},
   "outputs": [
    {
     "data": {
      "text/plain": [
       "'bye'"
      ]
     },
     "execution_count": 16,
     "metadata": {},
     "output_type": "execute_result"
    }
   ],
   "source": [
    "string2.ljust(3)"
   ]
  },
  {
   "cell_type": "code",
   "execution_count": 29,
   "metadata": {},
   "outputs": [
    {
     "data": {
      "text/plain": [
       "False"
      ]
     },
     "execution_count": 29,
     "metadata": {},
     "output_type": "execute_result"
    }
   ],
   "source": [
    "string3 = 'abcabc'\n",
    "string4 = 'abc'\n",
    "string3==string4"
   ]
  },
  {
   "cell_type": "code",
   "execution_count": 15,
   "metadata": {},
   "outputs": [
    {
     "data": {
      "text/plain": [
       "8"
      ]
     },
     "execution_count": 15,
     "metadata": {},
     "output_type": "execute_result"
    }
   ],
   "source": [
    "len(string3)"
   ]
  },
  {
   "cell_type": "code",
   "execution_count": 23,
   "metadata": {},
   "outputs": [
    {
     "data": {
      "text/plain": [
       "2"
      ]
     },
     "execution_count": 23,
     "metadata": {},
     "output_type": "execute_result"
    }
   ],
   "source": [
    "len(string3)//3"
   ]
  },
  {
   "cell_type": "code",
   "execution_count": 28,
   "metadata": {},
   "outputs": [
    {
     "data": {
      "text/plain": [
       "3"
      ]
     },
     "execution_count": 28,
     "metadata": {},
     "output_type": "execute_result"
    }
   ],
   "source": [
    "math.gcd(6,3)"
   ]
  },
  {
   "cell_type": "code",
   "execution_count": 30,
   "metadata": {},
   "outputs": [
    {
     "data": {
      "text/plain": [
       "'abc'"
      ]
     },
     "execution_count": 30,
     "metadata": {},
     "output_type": "execute_result"
    }
   ],
   "source": [
    "string3[:3]"
   ]
  },
  {
   "cell_type": "code",
   "execution_count": 44,
   "metadata": {},
   "outputs": [
    {
     "ename": "IndexError",
     "evalue": "list index out of range",
     "output_type": "error",
     "traceback": [
      "\u001b[0;31m---------------------------------------------------------------------------\u001b[0m",
      "\u001b[0;31mIndexError\u001b[0m                                Traceback (most recent call last)",
      "Cell \u001b[0;32mIn[44], line 3\u001b[0m\n\u001b[1;32m      1\u001b[0m arr \u001b[38;5;241m=\u001b[39m [\u001b[38;5;241m1\u001b[39m,\u001b[38;5;241m2\u001b[39m,\u001b[38;5;241m3\u001b[39m,\u001b[38;5;241m4\u001b[39m,\u001b[38;5;241m5\u001b[39m]\n\u001b[1;32m      2\u001b[0m \u001b[38;5;28;01mfor\u001b[39;00m i \u001b[38;5;129;01min\u001b[39;00m \u001b[38;5;28mrange\u001b[39m(\u001b[38;5;28mlen\u001b[39m(arr)):\n\u001b[0;32m----> 3\u001b[0m     \u001b[38;5;28;01mif\u001b[39;00m (arr[i\u001b[38;5;241m+\u001b[39m\u001b[38;5;241m1\u001b[39m] \u001b[38;5;241m==\u001b[39m \u001b[38;5;241m0\u001b[39m \u001b[38;5;129;01mor\u001b[39;00m (i \u001b[38;5;241m==\u001b[39m \u001b[38;5;28mlen\u001b[39m(arr) \u001b[38;5;241m-\u001b[39m \u001b[38;5;241m1\u001b[39m)):\n\u001b[1;32m      4\u001b[0m         \u001b[38;5;28mprint\u001b[39m(\u001b[38;5;124m'\u001b[39m\u001b[38;5;124myep made it\u001b[39m\u001b[38;5;124m'\u001b[39m)\n",
      "\u001b[0;31mIndexError\u001b[0m: list index out of range"
     ]
    }
   ],
   "source": [
    "arr = [1,2,3,4,5]\n",
    "for i in range(len(arr)):\n",
    "    if (arr[i+1] == 0 or (i == len(arr) - 1)):\n",
    "        print('yep made it')\n"
   ]
  },
  {
   "cell_type": "code",
   "execution_count": 50,
   "metadata": {},
   "outputs": [
    {
     "name": "stdout",
     "output_type": "stream",
     "text": [
      "5\n",
      "4\n",
      "3\n",
      "2\n",
      "1\n",
      "0\n"
     ]
    }
   ],
   "source": [
    "for i in range(5, -1, -1):\n",
    "    print(i)"
   ]
  },
  {
   "cell_type": "code",
   "execution_count": 54,
   "metadata": {},
   "outputs": [
    {
     "name": "stdout",
     "output_type": "stream",
     "text": [
      "1\n",
      "2\n"
     ]
    }
   ],
   "source": [
    "for i in str(12):\n",
    "    print(i)"
   ]
  },
  {
   "cell_type": "code",
   "execution_count": null,
   "metadata": {},
   "outputs": [],
   "source": []
  },
  {
   "cell_type": "code",
   "execution_count": null,
   "metadata": {},
   "outputs": [],
   "source": []
  },
  {
   "cell_type": "code",
   "execution_count": null,
   "metadata": {},
   "outputs": [],
   "source": []
  },
  {
   "cell_type": "code",
   "execution_count": null,
   "metadata": {},
   "outputs": [],
   "source": []
  }
 ],
 "metadata": {
  "interpreter": {
   "hash": "a41c628884e480dfa9fd48e290bf66fb816cff95c784ed6caac829a248655a89"
  },
  "kernelspec": {
   "display_name": "Python 3 (ipykernel)",
   "language": "python",
   "name": "python3"
  },
  "language_info": {
   "codemirror_mode": {
    "name": "ipython",
    "version": 3
   },
   "file_extension": ".py",
   "mimetype": "text/x-python",
   "name": "python",
   "nbconvert_exporter": "python",
   "pygments_lexer": "ipython3",
   "version": "3.11.5"
  }
 },
 "nbformat": 4,
 "nbformat_minor": 2
}
