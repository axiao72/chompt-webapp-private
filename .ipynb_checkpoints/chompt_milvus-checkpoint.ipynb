{
 "cells": [
  {
   "cell_type": "code",
   "execution_count": 1,
   "id": "25dbfbfa",
   "metadata": {},
   "outputs": [],
   "source": [
    "from milvus_utils import *\n",
    "import pickle\n",
    "from langchain.embeddings import HuggingFaceEmbeddings\n",
    "from langchain.text_splitter import CharacterTextSplitter, RecursiveCharacterTextSplitter\n",
    "from langchain.schema.document import Document\n",
    "import more_itertools\n",
    "from datetime import datetime"
   ]
  },
  {
   "cell_type": "code",
   "execution_count": 2,
   "id": "60ce8111",
   "metadata": {},
   "outputs": [
    {
     "name": "stderr",
     "output_type": "stream",
     "text": [
      "No sentence-transformers model found with name models/e5-large-v2. Creating a new one with MEAN pooling.\n"
     ]
    }
   ],
   "source": [
    "# Initialize e5-large-v2 embeddings model\n",
    "model_kwargs = {'device': 'cpu'}\n",
    "encode_kwargs = {'normalize_embeddings': False}\n",
    "\n",
    "hf_embeddings = HuggingFaceEmbeddings(model_name=\"models/e5-large-v2\",\n",
    "                                     model_kwargs=model_kwargs,\n",
    "                                     encode_kwargs=encode_kwargs)"
   ]
  },
  {
   "cell_type": "code",
   "execution_count": null,
   "id": "102e7005",
   "metadata": {},
   "outputs": [],
   "source": [
    "&apos; = '\n",
    "&amp; = &"
   ]
  },
  {
   "cell_type": "code",
   "execution_count": 49,
   "id": "1d16ad84",
   "metadata": {},
   "outputs": [],
   "source": [
    "string_test = \"yo this is a test of replacing typos, it&apos;s supposed to be easy &amp; fun\""
   ]
  },
  {
   "cell_type": "code",
   "execution_count": 50,
   "id": "7bc72d31",
   "metadata": {},
   "outputs": [
    {
     "data": {
      "text/plain": [
       "\"yo this is a test of replacing typos, it's supposed to be easy & fun\""
      ]
     },
     "execution_count": 50,
     "metadata": {},
     "output_type": "execute_result"
    }
   ],
   "source": [
    "string_test.replace('&apos;', \"'\").replace('&amp;', '&')"
   ]
  },
  {
   "cell_type": "code",
   "execution_count": null,
   "id": "2c7191a2",
   "metadata": {},
   "outputs": [],
   "source": [
    "'review': just_review,\n",
    "'food_rundown': food_rundown,\n",
    "'cuisine': review_cuisine,\n",
    "'perfect_for_tags': review_tags,\n",
    "'price_range': review_price,\n",
    "'review_date': review_date"
   ]
  },
  {
   "cell_type": "code",
   "execution_count": 89,
   "id": "d84939c2",
   "metadata": {},
   "outputs": [],
   "source": [
    "with open('infatuation_reviews_v2.pkl', 'rb') as file:\n",
    "    resto_reviews = pickle.load(file)"
   ]
  },
  {
   "cell_type": "code",
   "execution_count": 101,
   "id": "efa1f30a",
   "metadata": {},
   "outputs": [],
   "source": [
    "test_date = datetime.strptime(resto_reviews['Le Bernardin']['review_date'].split('T')[0], \"%Y-%m-%d\").date()"
   ]
  },
  {
   "cell_type": "code",
   "execution_count": 102,
   "id": "798abdd5",
   "metadata": {},
   "outputs": [
    {
     "name": "stdout",
     "output_type": "stream",
     "text": [
      "2022-11-01\n"
     ]
    }
   ],
   "source": [
    "print(test_date)"
   ]
  },
  {
   "cell_type": "code",
   "execution_count": 5,
   "id": "29a52fa0",
   "metadata": {},
   "outputs": [
    {
     "name": "stdout",
     "output_type": "stream",
     "text": [
      "Final total of 268 documents from 254 reviews.\n",
      "Average word of count of each document: 159.11194029850745\n",
      "\n"
     ]
    }
   ],
   "source": [
    "with open('infatuation_reviews_v2.pkl', 'rb') as file:\n",
    "    resto_reviews = pickle.load(file)\n",
    "    \n",
    "text_splitter = RecursiveCharacterTextSplitter(chunk_size=2500,\n",
    "                                     chunk_overlap=800,\n",
    "                                     length_function=len)\n",
    "final_docs = []\n",
    "total_word_cnt = 0\n",
    "for resto in resto_reviews:\n",
    "    cleaned_review = resto_reviews[resto]['review'].replace('&apos;', \"'\").replace(\"&amp;\", \"&\")\n",
    "    # Split review text into chunks\n",
    "    split_review_docs = text_splitter.create_documents([cleaned_review])\n",
    "    # Loop through each chunk and assign metadata\n",
    "    for doc in split_review_docs:\n",
    "        doc.metadata['resto_name'] = resto.replace(\"&amp;\", \"&\").replace('&apos;', \"'\")\n",
    "#         doc.metadata['food_rundown'] = resto_reviews[resto]['food_rundown'].replace(\"&amp;\", \"&\").replace('&apos;', \"'\")\n",
    "        doc.metadata['cuisine'] = resto_reviews[resto]['cuisine']\n",
    "        doc.metadata['perfect_for_tags'] = resto_reviews[resto]['perfect_for_tags'].replace(\"&amp;\", \"&\").replace('&apos;', \"'\")\n",
    "        doc.metadata['price_range'] = resto_reviews[resto]['price_range']\n",
    "        doc.metadata['review_date'] = resto_reviews[resto]['review_date'].split('T')[0]\n",
    "        # Add document to final list of documents\n",
    "        final_docs.append(doc)\n",
    "        total_word_cnt += len(doc.page_content.split())\n",
    "\n",
    "print(f'Final total of {len(final_docs)} documents from {len(resto_reviews)} reviews.')\n",
    "print(f'Average word of count of each document: {total_word_cnt/len(final_docs)}\\n')"
   ]
  },
  {
   "cell_type": "code",
   "execution_count": 3,
   "id": "ded42c92",
   "metadata": {},
   "outputs": [],
   "source": [
    "connect()"
   ]
  },
  {
   "cell_type": "code",
   "execution_count": 4,
   "id": "1006d44a",
   "metadata": {},
   "outputs": [
    {
     "data": {
      "text/plain": [
       "['chompt_resto_data', 'chompt_resto_data_cleaned', 'chompt_resto_data_2']"
      ]
     },
     "execution_count": 4,
     "metadata": {},
     "output_type": "execute_result"
    }
   ],
   "source": [
    "listCollections()"
   ]
  },
  {
   "cell_type": "code",
   "execution_count": 111,
   "id": "be97166e",
   "metadata": {},
   "outputs": [
    {
     "data": {
      "text/plain": [
       "{'collection.schema': {'auto_id': True, 'description': 'Restaurant reviews to use for Chompt restaurant picker', 'fields': [{'name': 'pk', 'description': '', 'type': <DataType.INT64: 5>, 'is_primary': True, 'auto_id': True}, {'name': 'resto_name', 'description': '', 'type': <DataType.VARCHAR: 21>, 'params': {'max_length': 100}}, {'name': 'price_range', 'description': '', 'type': <DataType.VARCHAR: 21>, 'params': {'max_length': 100}}, {'name': 'perfect_for_tags', 'description': '', 'type': <DataType.VARCHAR: 21>, 'params': {'max_length': 1000}}, {'name': 'text', 'description': '', 'type': <DataType.VARCHAR: 21>, 'params': {'max_length': 65535}}, {'name': 'vector', 'description': '', 'type': <DataType.FLOAT_VECTOR: 101>, 'params': {'dim': 1024}}]},\n",
       " 'collection.description': 'Restaurant reviews to use for Chompt restaurant picker',\n",
       " 'collection.name': 'chompt_resto_data_cleaned',\n",
       " 'collection.is_empty': False,\n",
       " 'collection.num_entities': 309,\n",
       " 'collection.primary_field': {'name': 'pk', 'description': '', 'type': <DataType.INT64: 5>, 'is_primary': True, 'auto_id': True},\n",
       " 'collection.partitions': [{\"name\":\"_default\",\"collection_name\":\"chompt_resto_data_cleaned\",\"description\":\"\"}],\n",
       " 'collection.indexes': [<pymilvus.orm.index.Index at 0x135e05bd0>]}"
      ]
     },
     "execution_count": 111,
     "metadata": {},
     "output_type": "execute_result"
    }
   ],
   "source": [
    "getCollectionDetails('chompt_resto_data_cleaned')"
   ]
  },
  {
   "cell_type": "code",
   "execution_count": 6,
   "id": "f8589357",
   "metadata": {},
   "outputs": [
    {
     "name": "stdout",
     "output_type": "stream",
     "text": [
      "Creating collection: chompt_resto_data_cleaned_dec8\n",
      "Created\n"
     ]
    }
   ],
   "source": [
    "# dropCollection('chompt_resto_data_cleaned')\n",
    "collection = createCollection('chompt_resto_data_cleaned_dec8')\n",
    "# listCollections()"
   ]
  },
  {
   "cell_type": "code",
   "execution_count": null,
   "id": "bde5bc3e",
   "metadata": {},
   "outputs": [],
   "source": [
    "collection = Collection(name='chompt_resto_data', using='default')"
   ]
  },
  {
   "cell_type": "code",
   "execution_count": null,
   "id": "a9c8fc13",
   "metadata": {},
   "outputs": [],
   "source": [
    "res = collection.query(expr=\"resto_name like 'Le Bernardin%'\",\n",
    "                      output_fields=['resto_name', 'text'])\n",
    "res[0]"
   ]
  },
  {
   "cell_type": "code",
   "execution_count": 7,
   "id": "b6531a34",
   "metadata": {},
   "outputs": [],
   "source": [
    "disconnect()"
   ]
  },
  {
   "cell_type": "code",
   "execution_count": null,
   "id": "c6f19114",
   "metadata": {},
   "outputs": [],
   "source": [
    "# sub_final_docs = final_docs[:10]\n",
    "# vector_store = Milvus.from_documents(sub_final_docs,\n",
    "#                                     collection_name=MILVUS_COLLECTION_NAME,\n",
    "#                                     embedding=hf_embeddings,\n",
    "#                                     connection_args={\"host\": MILVUS_HOST, \"port\": MILVUS_PORT})"
   ]
  },
  {
   "cell_type": "code",
   "execution_count": 114,
   "id": "ccf833c6",
   "metadata": {},
   "outputs": [
    {
     "data": {
      "text/plain": [
       "268"
      ]
     },
     "execution_count": 114,
     "metadata": {},
     "output_type": "execute_result"
    }
   ],
   "source": [
    "len(final_docs)"
   ]
  },
  {
   "cell_type": "code",
   "execution_count": 8,
   "id": "1850c714",
   "metadata": {},
   "outputs": [],
   "source": [
    "# sub_doc = [final_docs[0]]\n",
    "sub_docs = list(more_itertools.batched(final_docs, 30))"
   ]
  },
  {
   "cell_type": "code",
   "execution_count": 116,
   "id": "31a9e072",
   "metadata": {},
   "outputs": [],
   "source": []
  },
  {
   "cell_type": "code",
   "execution_count": 120,
   "id": "d78ca220",
   "metadata": {},
   "outputs": [
    {
     "data": {
      "text/plain": [
       "30"
      ]
     },
     "execution_count": 120,
     "metadata": {},
     "output_type": "execute_result"
    }
   ],
   "source": [
    "len(sub_docs[0])"
   ]
  },
  {
   "cell_type": "code",
   "execution_count": 9,
   "id": "9c054dde",
   "metadata": {},
   "outputs": [
    {
     "name": "stdout",
     "output_type": "stream",
     "text": [
      "Stored sub list 1 in Milvus!\n",
      "Stored sub list 2 in Milvus!\n",
      "Stored sub list 3 in Milvus!\n",
      "Stored sub list 4 in Milvus!\n",
      "Stored sub list 5 in Milvus!\n",
      "Stored sub list 6 in Milvus!\n",
      "Stored sub list 7 in Milvus!\n",
      "Stored sub list 8 in Milvus!\n",
      "Stored sub list 9 in Milvus!\n"
     ]
    }
   ],
   "source": [
    "for count, doc_list in enumerate(sub_docs):\n",
    "    vector_store = Milvus.from_documents(list(doc_list),\n",
    "                                        collection_name='chompt_resto_data_cleaned_dec8',\n",
    "                                        embedding=hf_embeddings,\n",
    "                                        connection_args={\"host\": MILVUS_HOST, \"port\": MILVUS_PORT})\n",
    "    print(f\"Stored sub list {count+1} in Milvus!\")\n",
    "\n",
    "# vector_store = Milvus(collection_name='chompt_resto_data_cleaned',\n",
    "#                     embedding_function=hf_embeddings,\n",
    "#                     connection_args={\"host\": MILVUS_HOST, \"port\": MILVUS_PORT})"
   ]
  },
  {
   "cell_type": "code",
   "execution_count": null,
   "id": "326ae1f5",
   "metadata": {},
   "outputs": [],
   "source": [
    "query = \"Going on a date and want to eat really good Chinese food in downtown Manhattan that will impress my date.\""
   ]
  },
  {
   "cell_type": "code",
   "execution_count": null,
   "id": "0bfae89e",
   "metadata": {},
   "outputs": [],
   "source": []
  },
  {
   "cell_type": "code",
   "execution_count": 84,
   "id": "a49d1857",
   "metadata": {},
   "outputs": [],
   "source": [
    "# search_expr = 'price_range == \\\"$$\\\"'\n",
    "# result_docs = vector_store.similarity_search(query, search_expr)\n",
    "result_docs = vector_store.similarity_search(query)"
   ]
  },
  {
   "cell_type": "code",
   "execution_count": 85,
   "id": "8f614c6e",
   "metadata": {},
   "outputs": [
    {
     "name": "stdout",
     "output_type": "stream",
     "text": [
      "\n",
      "Restaurant: Winner on Franklin\n",
      "Review: The Breakfast Sandwich\n",
      "\n",
      "This is a tried and true sandwich. If you live near Winner on Franklin, we hope you know this already. If not, swing by and eat it. Soon. You should add the optional Chinese sausage, but the custardy eggs with homemade chili crisp will be good even without it.\n",
      "\n",
      "\n",
      "Patties\n",
      "\n",
      "The patties here are crispy on the outside, smooth and meaty on the inside, and also $6 or more. We like them, but in an area full of excellent patties, we usually opt for something else. \n",
      "\n",
      "\n",
      "Chicken Katsu\n",
      "\n",
      "When they actually have it, this is one of the best things on the menu. The dinner version comes on furikake brioche, but we prefer the lunchtime variety, which comes between two thick slices of milk bread, is about the size of your head, and slathered with Taiwanese-style three-cup sauce. An underrated part of consuming sandwiches is eating all the things that fall out of them after, and this sandwich produces a lot of these post-sandwich bites. \n",
      "\n",
      "\n",
      "Veggie Banh Mi\n",
      "\n",
      "It’s not as good as the one at the OG [Winner](https://www.theinfatuation.com/new-york/reviews/winner &quot;https://www.theinfatuation.com/new-york/reviews/winner&quot;) (long live the mushroom pate), but this is a crowd-pleasing meatless sandwich, and is also spectacularly saucy. Winner on Franklin is good at sauce. \n",
      "\n",
      "\n",
      "Garlic Bread Grilled Cheese\n",
      "\n",
      "We love a buttery grilled cheese as much as the next person, but this one, available at lunch, is greasy to the point of no return. Avoid, unless you are very close to home and can spend the rest of your day lying on the couch.\n",
      "\n",
      "\n",
      "Cheeseburger\n",
      "\n",
      "The fermented chili remoulade on this burger puts all special sauces to shame. This is the burger to sit at the bar alone with, and not just because it comes with a thick layer of onion that you might need to follow with multiple pieces of gum. Pair with a glass of wine or a frozen margarita, and definitely do not share. \n",
      "\n",
      "\n",
      "Summer Salad\n",
      "\n",
      "This one will probably change with the seasons. And while it won’t change your life, it’s got a creamy, ranch-adjacent dressing and lots of vegetables for that much needed crunch alongside a burger. \n",
      "\n",
      "\n",
      "Crispy Vegetables\n",
      "\n",
      "You don’t need to order these tempura-style vegetables, but in a world where small plates just keep getting smaller, this is a welcome larger option, especially if you end up here with a group. The veggies are pleasantly crispy and served with a nam prik sauce. Again with the sauce!\n",
      "\n",
      "\n",
      "\n",
      "Charcuterie\n",
      "Price Range: $$\n",
      "\n",
      "\n",
      "Restaurant: Super Taste\n",
      "Review: ​​In 2050, food historians will probably declare the 2023 opening of Super Taste as having changed the Upper East Side takeout scene forever. Groundbreaking restaurant news, right up there with the return of cottage fries at J.G. Melon, and Papaya King moving from one side of the street to the other.  At this Chinatown noodle spot’s second location, nothing costs over $13.50, and the stewed pork burger on a sesame pancake bun might be the best $5.95 you can spend within a mile of the Met. This small storefront is geared towards takeout, but you could eat a plate of fried pork and chive dumplings at one of the tables if desired—if not, walk 15 minutes to Central Park, and enjoy your Lanzhou-style, spicy beef hand-pulled noodle soup under some trees.\n",
      "Price Range: $\n",
      "\n",
      "\n",
      "Restaurant: Dora's Restaurant\n",
      "Review: The dinner you have before you go out is very important. It sets the tone for the rest of the evening, and if you go somewhere boring, you may end up falling asleep standing up later on the dance floor. So, the next time you’re looking for a relatively affordable pre-going out dinner in the East Village, go to Dora’s, a Peruvian spot where the sangria comes in at least six different flavors, and the music plays at a club-level volume. The large, casual space has plastic chairs, a full bar, and a Good Vibes sign that is only sometimes turned on. Order a bunch of ceviches to share, a few rounds of sangria, and maybe even a paella. And if your night begins and ends here, we think that’d be just fine with Dora.\n",
      "Price Range: $\n",
      "\n",
      "\n",
      "Restaurant: Chi\n",
      "Review: For a spot across from the Lincoln Tunnel, Chi exceeds all expectations. Open for lunch and dinner, the restaurant has two interconnected dining rooms with comfy leather furniture and slate gray walls, as well as a bar up front where you can hang out and drink some baijiu or a glass of champagne. The menu focuses on Sichuan food—with dishes like springy dan dan noodles and delicate mapo tofu—although there’s really a bit of everything. Options include dim sum, Korean wings, Peking duck, and tender cumin lamb that arrives smothered in spices. Aside from that lamb, the flavors here can run a bit mild, but this is still one of best options for an impressive group meal within walking distance of Penn Station.\n",
      "Price Range: $$$\n",
      "\n"
     ]
    }
   ],
   "source": [
    "for resto in result_docs:\n",
    "    resto_name = resto.metadata['resto_name']\n",
    "    price_range = resto.metadata['price_range']\n",
    "    perfect_for = resto.metadata['perfect_for_tags']\n",
    "    review = resto.page_content\n",
    "    print(f\"\\nRestaurant: {resto_name}\\nReview: {review}\\nPrice Range: {price_range}\\n\")"
   ]
  },
  {
   "cell_type": "code",
   "execution_count": null,
   "id": "d606c9f7",
   "metadata": {},
   "outputs": [],
   "source": []
  }
 ],
 "metadata": {
  "kernelspec": {
   "display_name": "foodApp",
   "language": "python",
   "name": "foodapp"
  },
  "language_info": {
   "codemirror_mode": {
    "name": "ipython",
    "version": 3
   },
   "file_extension": ".py",
   "mimetype": "text/x-python",
   "name": "python",
   "nbconvert_exporter": "python",
   "pygments_lexer": "ipython3",
   "version": "3.11.5"
  }
 },
 "nbformat": 4,
 "nbformat_minor": 5
}
